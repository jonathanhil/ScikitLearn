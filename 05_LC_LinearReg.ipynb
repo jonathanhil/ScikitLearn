{
  "nbformat": 4,
  "nbformat_minor": 0,
  "metadata": {
    "colab": {
      "provenance": []
    },
    "kernelspec": {
      "name": "python3",
      "display_name": "Python 3"
    }
  },
  "cells": [
    {
      "cell_type": "markdown",
      "metadata": {
        "id": "7RZbCjBZBNKL"
      },
      "source": [
        "# Execute the code below"
      ]
    },
    {
      "cell_type": "code",
      "metadata": {
        "id": "ih5VsCSsAGWK"
      },
      "source": [
        "import matplotlib.pyplot as plt\n",
        "import pandas as pd\n",
        "import numpy as np\n",
        "import seaborn as sns\n",
        "import plotly.express as px\n",
        "link = \"https://raw.githubusercontent.com/murpi/wilddata/master/quests/weather2019.csv\"\n",
        "df_weather = pd.read_csv(link)"
      ],
      "execution_count": 1,
      "outputs": []
    },
    {
      "cell_type": "markdown",
      "metadata": {
        "id": "HDfmi_gNBRd3"
      },
      "source": [
        "# Multivariate linear regression with Scikit-Learn"
      ]
    },
    {
      "cell_type": "markdown",
      "metadata": {
        "id": "QhC4gFT2BVh1"
      },
      "source": [
        "The equation of an univariate linear regresion is a line : aX +b\n",
        "\n",
        "The equation of a multivariate linear regression with 2 variables is a plan : aW + bX + c\n",
        "\n",
        "The equation of a multivariate linear regression with n variables is a hyperplan : a1 X1 + a2 X2 + .... + an Xn + b\n"
      ]
    },
    {
      "cell_type": "markdown",
      "metadata": {
        "id": "sqL95QpaCTtI"
      },
      "source": [
        "## Let's start with 2 variables\n",
        "With Plotly express, show a [3D scatterplot ](https://plotly.com/python/plotly-express/#3d-coordinates)with :\n",
        "- X-axis : MAX temperature\n",
        "- Y-axis : MIN temperature\n",
        "- Z-axis : Sunhours\n"
      ]
    },
    {
      "cell_type": "code",
      "source": [
        "df_weather"
      ],
      "metadata": {
        "colab": {
          "base_uri": "https://localhost:8080/",
          "height": 679
        },
        "id": "eALRMPshmHE2",
        "outputId": "299b464f-534f-494d-fe7d-728ba124f66f"
      },
      "execution_count": 2,
      "outputs": [
        {
          "output_type": "execute_result",
          "data": {
            "text/plain": [
              "           DATE  MAX_TEMPERATURE_C  MIN_TEMPERATURE_C  WINDSPEED_MAX_KMH  \\\n",
              "0    2019-01-01                  9                  4                 10   \n",
              "1    2019-01-02                  8                  5                 18   \n",
              "2    2019-01-03                  6                  0                 18   \n",
              "3    2019-01-04                  5                 -1                 15   \n",
              "4    2019-01-05                  6                 -1                  8   \n",
              "..          ...                ...                ...                ...   \n",
              "360  2019-12-27                 13                 10                 13   \n",
              "361  2019-12-28                 11                  5                 12   \n",
              "362  2019-12-29                  9                  2                 11   \n",
              "363  2019-12-30                 12                  4                  7   \n",
              "364  2019-12-31                 10                  4                 13   \n",
              "\n",
              "     TEMPERATURE_MORNING_C  TEMPERATURE_NOON_C  TEMPERATURE_EVENING_C  \\\n",
              "0                        4                   7                      8   \n",
              "1                        7                   7                      5   \n",
              "2                        0                   4                      3   \n",
              "3                       -1                   4                      3   \n",
              "4                       -1                   4                      3   \n",
              "..                     ...                 ...                    ...   \n",
              "360                     10                  12                     11   \n",
              "361                      7                   8                      8   \n",
              "362                      3                   6                      7   \n",
              "363                      5                   9                      9   \n",
              "364                      4                   7                      9   \n",
              "\n",
              "     PRECIP_TOTAL_DAY_MM  HUMIDITY_MAX_PERCENT  VISIBILITY_AVG_KM  ...  \\\n",
              "0                    0.2                    94              9.000  ...   \n",
              "1                    0.0                    90              9.000  ...   \n",
              "2                    0.0                    88             10.000  ...   \n",
              "3                    0.0                    91             10.000  ...   \n",
              "4                    0.0                    91              8.000  ...   \n",
              "..                   ...                   ...                ...  ...   \n",
              "360                  0.0                    96              7.375  ...   \n",
              "361                  0.0                    93              7.625  ...   \n",
              "362                  0.0                    86             10.000  ...   \n",
              "363                  0.0                    61             10.000  ...   \n",
              "364                  0.1                    94              9.000  ...   \n",
              "\n",
              "     WINDTEMP_MAX_C  WEATHER_CODE_MORNING  WEATHER_CODE_NOON  \\\n",
              "0                 3                   116                143   \n",
              "1                 3                   119                116   \n",
              "2                -4                   116                116   \n",
              "3                -4                   116                116   \n",
              "4                -2                   143                116   \n",
              "..              ...                   ...                ...   \n",
              "360               8                   119                143   \n",
              "361               4                   143                116   \n",
              "362               0                   116                116   \n",
              "363               4                   113                113   \n",
              "364               1                   113                143   \n",
              "\n",
              "     WEATHER_CODE_EVENING  TOTAL_SNOW_MM  UV_INDEX  SUNHOUR           OPINION  \\\n",
              "0                     176              0         1      5.1          very bad   \n",
              "1                     116              0         1      8.7          very bad   \n",
              "2                     116              0         1      8.7          very bad   \n",
              "3                     122              0         1      5.1          very bad   \n",
              "4                     116              0         1      8.7          very bad   \n",
              "..                    ...            ...       ...      ...               ...   \n",
              "360                   116              0         1      8.7  not good not bad   \n",
              "361                   116              0         1      6.9          very bad   \n",
              "362                   116              0         1      8.7          very bad   \n",
              "363                   113              0         1      8.7          very bad   \n",
              "364                   119              0         1      8.7          very bad   \n",
              "\n",
              "     MONTH  DAY  \n",
              "0        1    1  \n",
              "1        1    2  \n",
              "2        1    3  \n",
              "3        1    4  \n",
              "4        1    5  \n",
              "..     ...  ...  \n",
              "360     12   27  \n",
              "361     12   28  \n",
              "362     12   29  \n",
              "363     12   30  \n",
              "364     12   31  \n",
              "\n",
              "[365 rows x 24 columns]"
            ],
            "text/html": [
              "\n",
              "  <div id=\"df-3c94cd83-ff32-4fb6-89df-5c2abea67ff0\">\n",
              "    <div class=\"colab-df-container\">\n",
              "      <div>\n",
              "<style scoped>\n",
              "    .dataframe tbody tr th:only-of-type {\n",
              "        vertical-align: middle;\n",
              "    }\n",
              "\n",
              "    .dataframe tbody tr th {\n",
              "        vertical-align: top;\n",
              "    }\n",
              "\n",
              "    .dataframe thead th {\n",
              "        text-align: right;\n",
              "    }\n",
              "</style>\n",
              "<table border=\"1\" class=\"dataframe\">\n",
              "  <thead>\n",
              "    <tr style=\"text-align: right;\">\n",
              "      <th></th>\n",
              "      <th>DATE</th>\n",
              "      <th>MAX_TEMPERATURE_C</th>\n",
              "      <th>MIN_TEMPERATURE_C</th>\n",
              "      <th>WINDSPEED_MAX_KMH</th>\n",
              "      <th>TEMPERATURE_MORNING_C</th>\n",
              "      <th>TEMPERATURE_NOON_C</th>\n",
              "      <th>TEMPERATURE_EVENING_C</th>\n",
              "      <th>PRECIP_TOTAL_DAY_MM</th>\n",
              "      <th>HUMIDITY_MAX_PERCENT</th>\n",
              "      <th>VISIBILITY_AVG_KM</th>\n",
              "      <th>...</th>\n",
              "      <th>WINDTEMP_MAX_C</th>\n",
              "      <th>WEATHER_CODE_MORNING</th>\n",
              "      <th>WEATHER_CODE_NOON</th>\n",
              "      <th>WEATHER_CODE_EVENING</th>\n",
              "      <th>TOTAL_SNOW_MM</th>\n",
              "      <th>UV_INDEX</th>\n",
              "      <th>SUNHOUR</th>\n",
              "      <th>OPINION</th>\n",
              "      <th>MONTH</th>\n",
              "      <th>DAY</th>\n",
              "    </tr>\n",
              "  </thead>\n",
              "  <tbody>\n",
              "    <tr>\n",
              "      <th>0</th>\n",
              "      <td>2019-01-01</td>\n",
              "      <td>9</td>\n",
              "      <td>4</td>\n",
              "      <td>10</td>\n",
              "      <td>4</td>\n",
              "      <td>7</td>\n",
              "      <td>8</td>\n",
              "      <td>0.2</td>\n",
              "      <td>94</td>\n",
              "      <td>9.000</td>\n",
              "      <td>...</td>\n",
              "      <td>3</td>\n",
              "      <td>116</td>\n",
              "      <td>143</td>\n",
              "      <td>176</td>\n",
              "      <td>0</td>\n",
              "      <td>1</td>\n",
              "      <td>5.1</td>\n",
              "      <td>very bad</td>\n",
              "      <td>1</td>\n",
              "      <td>1</td>\n",
              "    </tr>\n",
              "    <tr>\n",
              "      <th>1</th>\n",
              "      <td>2019-01-02</td>\n",
              "      <td>8</td>\n",
              "      <td>5</td>\n",
              "      <td>18</td>\n",
              "      <td>7</td>\n",
              "      <td>7</td>\n",
              "      <td>5</td>\n",
              "      <td>0.0</td>\n",
              "      <td>90</td>\n",
              "      <td>9.000</td>\n",
              "      <td>...</td>\n",
              "      <td>3</td>\n",
              "      <td>119</td>\n",
              "      <td>116</td>\n",
              "      <td>116</td>\n",
              "      <td>0</td>\n",
              "      <td>1</td>\n",
              "      <td>8.7</td>\n",
              "      <td>very bad</td>\n",
              "      <td>1</td>\n",
              "      <td>2</td>\n",
              "    </tr>\n",
              "    <tr>\n",
              "      <th>2</th>\n",
              "      <td>2019-01-03</td>\n",
              "      <td>6</td>\n",
              "      <td>0</td>\n",
              "      <td>18</td>\n",
              "      <td>0</td>\n",
              "      <td>4</td>\n",
              "      <td>3</td>\n",
              "      <td>0.0</td>\n",
              "      <td>88</td>\n",
              "      <td>10.000</td>\n",
              "      <td>...</td>\n",
              "      <td>-4</td>\n",
              "      <td>116</td>\n",
              "      <td>116</td>\n",
              "      <td>116</td>\n",
              "      <td>0</td>\n",
              "      <td>1</td>\n",
              "      <td>8.7</td>\n",
              "      <td>very bad</td>\n",
              "      <td>1</td>\n",
              "      <td>3</td>\n",
              "    </tr>\n",
              "    <tr>\n",
              "      <th>3</th>\n",
              "      <td>2019-01-04</td>\n",
              "      <td>5</td>\n",
              "      <td>-1</td>\n",
              "      <td>15</td>\n",
              "      <td>-1</td>\n",
              "      <td>4</td>\n",
              "      <td>3</td>\n",
              "      <td>0.0</td>\n",
              "      <td>91</td>\n",
              "      <td>10.000</td>\n",
              "      <td>...</td>\n",
              "      <td>-4</td>\n",
              "      <td>116</td>\n",
              "      <td>116</td>\n",
              "      <td>122</td>\n",
              "      <td>0</td>\n",
              "      <td>1</td>\n",
              "      <td>5.1</td>\n",
              "      <td>very bad</td>\n",
              "      <td>1</td>\n",
              "      <td>4</td>\n",
              "    </tr>\n",
              "    <tr>\n",
              "      <th>4</th>\n",
              "      <td>2019-01-05</td>\n",
              "      <td>6</td>\n",
              "      <td>-1</td>\n",
              "      <td>8</td>\n",
              "      <td>-1</td>\n",
              "      <td>4</td>\n",
              "      <td>3</td>\n",
              "      <td>0.0</td>\n",
              "      <td>91</td>\n",
              "      <td>8.000</td>\n",
              "      <td>...</td>\n",
              "      <td>-2</td>\n",
              "      <td>143</td>\n",
              "      <td>116</td>\n",
              "      <td>116</td>\n",
              "      <td>0</td>\n",
              "      <td>1</td>\n",
              "      <td>8.7</td>\n",
              "      <td>very bad</td>\n",
              "      <td>1</td>\n",
              "      <td>5</td>\n",
              "    </tr>\n",
              "    <tr>\n",
              "      <th>...</th>\n",
              "      <td>...</td>\n",
              "      <td>...</td>\n",
              "      <td>...</td>\n",
              "      <td>...</td>\n",
              "      <td>...</td>\n",
              "      <td>...</td>\n",
              "      <td>...</td>\n",
              "      <td>...</td>\n",
              "      <td>...</td>\n",
              "      <td>...</td>\n",
              "      <td>...</td>\n",
              "      <td>...</td>\n",
              "      <td>...</td>\n",
              "      <td>...</td>\n",
              "      <td>...</td>\n",
              "      <td>...</td>\n",
              "      <td>...</td>\n",
              "      <td>...</td>\n",
              "      <td>...</td>\n",
              "      <td>...</td>\n",
              "      <td>...</td>\n",
              "    </tr>\n",
              "    <tr>\n",
              "      <th>360</th>\n",
              "      <td>2019-12-27</td>\n",
              "      <td>13</td>\n",
              "      <td>10</td>\n",
              "      <td>13</td>\n",
              "      <td>10</td>\n",
              "      <td>12</td>\n",
              "      <td>11</td>\n",
              "      <td>0.0</td>\n",
              "      <td>96</td>\n",
              "      <td>7.375</td>\n",
              "      <td>...</td>\n",
              "      <td>8</td>\n",
              "      <td>119</td>\n",
              "      <td>143</td>\n",
              "      <td>116</td>\n",
              "      <td>0</td>\n",
              "      <td>1</td>\n",
              "      <td>8.7</td>\n",
              "      <td>not good not bad</td>\n",
              "      <td>12</td>\n",
              "      <td>27</td>\n",
              "    </tr>\n",
              "    <tr>\n",
              "      <th>361</th>\n",
              "      <td>2019-12-28</td>\n",
              "      <td>11</td>\n",
              "      <td>5</td>\n",
              "      <td>12</td>\n",
              "      <td>7</td>\n",
              "      <td>8</td>\n",
              "      <td>8</td>\n",
              "      <td>0.0</td>\n",
              "      <td>93</td>\n",
              "      <td>7.625</td>\n",
              "      <td>...</td>\n",
              "      <td>4</td>\n",
              "      <td>143</td>\n",
              "      <td>116</td>\n",
              "      <td>116</td>\n",
              "      <td>0</td>\n",
              "      <td>1</td>\n",
              "      <td>6.9</td>\n",
              "      <td>very bad</td>\n",
              "      <td>12</td>\n",
              "      <td>28</td>\n",
              "    </tr>\n",
              "    <tr>\n",
              "      <th>362</th>\n",
              "      <td>2019-12-29</td>\n",
              "      <td>9</td>\n",
              "      <td>2</td>\n",
              "      <td>11</td>\n",
              "      <td>3</td>\n",
              "      <td>6</td>\n",
              "      <td>7</td>\n",
              "      <td>0.0</td>\n",
              "      <td>86</td>\n",
              "      <td>10.000</td>\n",
              "      <td>...</td>\n",
              "      <td>0</td>\n",
              "      <td>116</td>\n",
              "      <td>116</td>\n",
              "      <td>116</td>\n",
              "      <td>0</td>\n",
              "      <td>1</td>\n",
              "      <td>8.7</td>\n",
              "      <td>very bad</td>\n",
              "      <td>12</td>\n",
              "      <td>29</td>\n",
              "    </tr>\n",
              "    <tr>\n",
              "      <th>363</th>\n",
              "      <td>2019-12-30</td>\n",
              "      <td>12</td>\n",
              "      <td>4</td>\n",
              "      <td>7</td>\n",
              "      <td>5</td>\n",
              "      <td>9</td>\n",
              "      <td>9</td>\n",
              "      <td>0.0</td>\n",
              "      <td>61</td>\n",
              "      <td>10.000</td>\n",
              "      <td>...</td>\n",
              "      <td>4</td>\n",
              "      <td>113</td>\n",
              "      <td>113</td>\n",
              "      <td>113</td>\n",
              "      <td>0</td>\n",
              "      <td>1</td>\n",
              "      <td>8.7</td>\n",
              "      <td>very bad</td>\n",
              "      <td>12</td>\n",
              "      <td>30</td>\n",
              "    </tr>\n",
              "    <tr>\n",
              "      <th>364</th>\n",
              "      <td>2019-12-31</td>\n",
              "      <td>10</td>\n",
              "      <td>4</td>\n",
              "      <td>13</td>\n",
              "      <td>4</td>\n",
              "      <td>7</td>\n",
              "      <td>9</td>\n",
              "      <td>0.1</td>\n",
              "      <td>94</td>\n",
              "      <td>9.000</td>\n",
              "      <td>...</td>\n",
              "      <td>1</td>\n",
              "      <td>113</td>\n",
              "      <td>143</td>\n",
              "      <td>119</td>\n",
              "      <td>0</td>\n",
              "      <td>1</td>\n",
              "      <td>8.7</td>\n",
              "      <td>very bad</td>\n",
              "      <td>12</td>\n",
              "      <td>31</td>\n",
              "    </tr>\n",
              "  </tbody>\n",
              "</table>\n",
              "<p>365 rows × 24 columns</p>\n",
              "</div>\n",
              "      <button class=\"colab-df-convert\" onclick=\"convertToInteractive('df-3c94cd83-ff32-4fb6-89df-5c2abea67ff0')\"\n",
              "              title=\"Convert this dataframe to an interactive table.\"\n",
              "              style=\"display:none;\">\n",
              "        \n",
              "  <svg xmlns=\"http://www.w3.org/2000/svg\" height=\"24px\"viewBox=\"0 0 24 24\"\n",
              "       width=\"24px\">\n",
              "    <path d=\"M0 0h24v24H0V0z\" fill=\"none\"/>\n",
              "    <path d=\"M18.56 5.44l.94 2.06.94-2.06 2.06-.94-2.06-.94-.94-2.06-.94 2.06-2.06.94zm-11 1L8.5 8.5l.94-2.06 2.06-.94-2.06-.94L8.5 2.5l-.94 2.06-2.06.94zm10 10l.94 2.06.94-2.06 2.06-.94-2.06-.94-.94-2.06-.94 2.06-2.06.94z\"/><path d=\"M17.41 7.96l-1.37-1.37c-.4-.4-.92-.59-1.43-.59-.52 0-1.04.2-1.43.59L10.3 9.45l-7.72 7.72c-.78.78-.78 2.05 0 2.83L4 21.41c.39.39.9.59 1.41.59.51 0 1.02-.2 1.41-.59l7.78-7.78 2.81-2.81c.8-.78.8-2.07 0-2.86zM5.41 20L4 18.59l7.72-7.72 1.47 1.35L5.41 20z\"/>\n",
              "  </svg>\n",
              "      </button>\n",
              "      \n",
              "  <style>\n",
              "    .colab-df-container {\n",
              "      display:flex;\n",
              "      flex-wrap:wrap;\n",
              "      gap: 12px;\n",
              "    }\n",
              "\n",
              "    .colab-df-convert {\n",
              "      background-color: #E8F0FE;\n",
              "      border: none;\n",
              "      border-radius: 50%;\n",
              "      cursor: pointer;\n",
              "      display: none;\n",
              "      fill: #1967D2;\n",
              "      height: 32px;\n",
              "      padding: 0 0 0 0;\n",
              "      width: 32px;\n",
              "    }\n",
              "\n",
              "    .colab-df-convert:hover {\n",
              "      background-color: #E2EBFA;\n",
              "      box-shadow: 0px 1px 2px rgba(60, 64, 67, 0.3), 0px 1px 3px 1px rgba(60, 64, 67, 0.15);\n",
              "      fill: #174EA6;\n",
              "    }\n",
              "\n",
              "    [theme=dark] .colab-df-convert {\n",
              "      background-color: #3B4455;\n",
              "      fill: #D2E3FC;\n",
              "    }\n",
              "\n",
              "    [theme=dark] .colab-df-convert:hover {\n",
              "      background-color: #434B5C;\n",
              "      box-shadow: 0px 1px 3px 1px rgba(0, 0, 0, 0.15);\n",
              "      filter: drop-shadow(0px 1px 2px rgba(0, 0, 0, 0.3));\n",
              "      fill: #FFFFFF;\n",
              "    }\n",
              "  </style>\n",
              "\n",
              "      <script>\n",
              "        const buttonEl =\n",
              "          document.querySelector('#df-3c94cd83-ff32-4fb6-89df-5c2abea67ff0 button.colab-df-convert');\n",
              "        buttonEl.style.display =\n",
              "          google.colab.kernel.accessAllowed ? 'block' : 'none';\n",
              "\n",
              "        async function convertToInteractive(key) {\n",
              "          const element = document.querySelector('#df-3c94cd83-ff32-4fb6-89df-5c2abea67ff0');\n",
              "          const dataTable =\n",
              "            await google.colab.kernel.invokeFunction('convertToInteractive',\n",
              "                                                     [key], {});\n",
              "          if (!dataTable) return;\n",
              "\n",
              "          const docLinkHtml = 'Like what you see? Visit the ' +\n",
              "            '<a target=\"_blank\" href=https://colab.research.google.com/notebooks/data_table.ipynb>data table notebook</a>'\n",
              "            + ' to learn more about interactive tables.';\n",
              "          element.innerHTML = '';\n",
              "          dataTable['output_type'] = 'display_data';\n",
              "          await google.colab.output.renderOutput(dataTable, element);\n",
              "          const docLink = document.createElement('div');\n",
              "          docLink.innerHTML = docLinkHtml;\n",
              "          element.appendChild(docLink);\n",
              "        }\n",
              "      </script>\n",
              "    </div>\n",
              "  </div>\n",
              "  "
            ]
          },
          "metadata": {},
          "execution_count": 2
        }
      ]
    },
    {
      "cell_type": "code",
      "source": [
        "sns.regplot(data = df_weather, x = \"TEMPERATURE_NOON_C\", y = \"MAX_TEMPERATURE_C\")"
      ],
      "metadata": {
        "colab": {
          "base_uri": "https://localhost:8080/",
          "height": 297
        },
        "id": "YC0v5uiil5JT",
        "outputId": "ac4683f5-100c-42f8-c70a-792513ca48c3"
      },
      "execution_count": 3,
      "outputs": [
        {
          "output_type": "execute_result",
          "data": {
            "text/plain": [
              "<matplotlib.axes._subplots.AxesSubplot at 0x7f1442f8f130>"
            ]
          },
          "metadata": {},
          "execution_count": 3
        },
        {
          "output_type": "display_data",
          "data": {
            "text/plain": [
              "<Figure size 432x288 with 1 Axes>"
            ],
            "image/png": "[encoded data removed]"
          },
          "metadata": {
            "needs_background": "light"
          }
        }
      ]
    },
    {
      "cell_type": "code",
      "source": [
        "from sklearn.linear_model import LinearRegression"
      ],
      "metadata": {
        "id": "1moDaKXZnZtA"
      },
      "execution_count": 4,
      "outputs": []
    },
    {
      "cell_type": "code",
      "source": [
        "modelLR = LinearRegression()"
      ],
      "metadata": {
        "id": "Oba4uyKon2a_"
      },
      "execution_count": 5,
      "outputs": []
    },
    {
      "cell_type": "code",
      "source": [
        "type(modelLR)"
      ],
      "metadata": {
        "colab": {
          "base_uri": "https://localhost:8080/"
        },
        "id": "NMo0fcetn-2c",
        "outputId": "8628837b-6daa-4c35-af52-e132e87adf36"
      },
      "execution_count": 6,
      "outputs": [
        {
          "output_type": "execute_result",
          "data": {
            "text/plain": [
              "sklearn.linear_model._base.LinearRegression"
            ]
          },
          "metadata": {},
          "execution_count": 6
        }
      ]
    },
    {
      "cell_type": "code",
      "source": [
        "X = df_weather[[\"SUNHOUR\", \"MIN_TEMPERATURE_C\"]]\n",
        "y = df_weather[\"MAX_TEMPERATURE_C\"]"
      ],
      "metadata": {
        "id": "MTz-DMPCoP3Y"
      },
      "execution_count": 7,
      "outputs": []
    },
    {
      "cell_type": "code",
      "source": [
        "df_weather[[\"SUNHOUR\", \"MIN_TEMPERATURE_C\"]]"
      ],
      "metadata": {
        "colab": {
          "base_uri": "https://localhost:8080/",
          "height": 424
        },
        "id": "_BGioND4tfYS",
        "outputId": "5fed7ab0-f1b7-4d7c-a483-e00688a36966"
      },
      "execution_count": 8,
      "outputs": [
        {
          "output_type": "execute_result",
          "data": {
            "text/plain": [
              "     SUNHOUR  MIN_TEMPERATURE_C\n",
              "0        5.1                  4\n",
              "1        8.7                  5\n",
              "2        8.7                  0\n",
              "3        5.1                 -1\n",
              "4        8.7                 -1\n",
              "..       ...                ...\n",
              "360      8.7                 10\n",
              "361      6.9                  5\n",
              "362      8.7                  2\n",
              "363      8.7                  4\n",
              "364      8.7                  4\n",
              "\n",
              "[365 rows x 2 columns]"
            ],
            "text/html": [
              "\n",
              "  <div id=\"df-71be97f0-753d-4f25-9daf-baac88b6495a\">\n",
              "    <div class=\"colab-df-container\">\n",
              "      <div>\n",
              "<style scoped>\n",
              "    .dataframe tbody tr th:only-of-type {\n",
              "        vertical-align: middle;\n",
              "    }\n",
              "\n",
              "    .dataframe tbody tr th {\n",
              "        vertical-align: top;\n",
              "    }\n",
              "\n",
              "    .dataframe thead th {\n",
              "        text-align: right;\n",
              "    }\n",
              "</style>\n",
              "<table border=\"1\" class=\"dataframe\">\n",
              "  <thead>\n",
              "    <tr style=\"text-align: right;\">\n",
              "      <th></th>\n",
              "      <th>SUNHOUR</th>\n",
              "      <th>MIN_TEMPERATURE_C</th>\n",
              "    </tr>\n",
              "  </thead>\n",
              "  <tbody>\n",
              "    <tr>\n",
              "      <th>0</th>\n",
              "      <td>5.1</td>\n",
              "      <td>4</td>\n",
              "    </tr>\n",
              "    <tr>\n",
              "      <th>1</th>\n",
              "      <td>8.7</td>\n",
              "      <td>5</td>\n",
              "    </tr>\n",
              "    <tr>\n",
              "      <th>2</th>\n",
              "      <td>8.7</td>\n",
              "      <td>0</td>\n",
              "    </tr>\n",
              "    <tr>\n",
              "      <th>3</th>\n",
              "      <td>5.1</td>\n",
              "      <td>-1</td>\n",
              "    </tr>\n",
              "    <tr>\n",
              "      <th>4</th>\n",
              "      <td>8.7</td>\n",
              "      <td>-1</td>\n",
              "    </tr>\n",
              "    <tr>\n",
              "      <th>...</th>\n",
              "      <td>...</td>\n",
              "      <td>...</td>\n",
              "    </tr>\n",
              "    <tr>\n",
              "      <th>360</th>\n",
              "      <td>8.7</td>\n",
              "      <td>10</td>\n",
              "    </tr>\n",
              "    <tr>\n",
              "      <th>361</th>\n",
              "      <td>6.9</td>\n",
              "      <td>5</td>\n",
              "    </tr>\n",
              "    <tr>\n",
              "      <th>362</th>\n",
              "      <td>8.7</td>\n",
              "      <td>2</td>\n",
              "    </tr>\n",
              "    <tr>\n",
              "      <th>363</th>\n",
              "      <td>8.7</td>\n",
              "      <td>4</td>\n",
              "    </tr>\n",
              "    <tr>\n",
              "      <th>364</th>\n",
              "      <td>8.7</td>\n",
              "      <td>4</td>\n",
              "    </tr>\n",
              "  </tbody>\n",
              "</table>\n",
              "<p>365 rows × 2 columns</p>\n",
              "</div>\n",
              "      <button class=\"colab-df-convert\" onclick=\"convertToInteractive('df-71be97f0-753d-4f25-9daf-baac88b6495a')\"\n",
              "              title=\"Convert this dataframe to an interactive table.\"\n",
              "              style=\"display:none;\">\n",
              "        \n",
              "  <svg xmlns=\"http://www.w3.org/2000/svg\" height=\"24px\"viewBox=\"0 0 24 24\"\n",
              "       width=\"24px\">\n",
              "    <path d=\"M0 0h24v24H0V0z\" fill=\"none\"/>\n",
              "    <path d=\"M18.56 5.44l.94 2.06.94-2.06 2.06-.94-2.06-.94-.94-2.06-.94 2.06-2.06.94zm-11 1L8.5 8.5l.94-2.06 2.06-.94-2.06-.94L8.5 2.5l-.94 2.06-2.06.94zm10 10l.94 2.06.94-2.06 2.06-.94-2.06-.94-.94-2.06-.94 2.06-2.06.94z\"/><path d=\"M17.41 7.96l-1.37-1.37c-.4-.4-.92-.59-1.43-.59-.52 0-1.04.2-1.43.59L10.3 9.45l-7.72 7.72c-.78.78-.78 2.05 0 2.83L4 21.41c.39.39.9.59 1.41.59.51 0 1.02-.2 1.41-.59l7.78-7.78 2.81-2.81c.8-.78.8-2.07 0-2.86zM5.41 20L4 18.59l7.72-7.72 1.47 1.35L5.41 20z\"/>\n",
              "  </svg>\n",
              "      </button>\n",
              "      \n",
              "  <style>\n",
              "    .colab-df-container {\n",
              "      display:flex;\n",
              "      flex-wrap:wrap;\n",
              "      gap: 12px;\n",
              "    }\n",
              "\n",
              "    .colab-df-convert {\n",
              "      background-color: #E8F0FE;\n",
              "      border: none;\n",
              "      border-radius: 50%;\n",
              "      cursor: pointer;\n",
              "      display: none;\n",
              "      fill: #1967D2;\n",
              "      height: 32px;\n",
              "      padding: 0 0 0 0;\n",
              "      width: 32px;\n",
              "    }\n",
              "\n",
              "    .colab-df-convert:hover {\n",
              "      background-color: #E2EBFA;\n",
              "      box-shadow: 0px 1px 2px rgba(60, 64, 67, 0.3), 0px 1px 3px 1px rgba(60, 64, 67, 0.15);\n",
              "      fill: #174EA6;\n",
              "    }\n",
              "\n",
              "    [theme=dark] .colab-df-convert {\n",
              "      background-color: #3B4455;\n",
              "      fill: #D2E3FC;\n",
              "    }\n",
              "\n",
              "    [theme=dark] .colab-df-convert:hover {\n",
              "      background-color: #434B5C;\n",
              "      box-shadow: 0px 1px 3px 1px rgba(0, 0, 0, 0.15);\n",
              "      filter: drop-shadow(0px 1px 2px rgba(0, 0, 0, 0.3));\n",
              "      fill: #FFFFFF;\n",
              "    }\n",
              "  </style>\n",
              "\n",
              "      <script>\n",
              "        const buttonEl =\n",
              "          document.querySelector('#df-71be97f0-753d-4f25-9daf-baac88b6495a button.colab-df-convert');\n",
              "        buttonEl.style.display =\n",
              "          google.colab.kernel.accessAllowed ? 'block' : 'none';\n",
              "\n",
              "        async function convertToInteractive(key) {\n",
              "          const element = document.querySelector('#df-71be97f0-753d-4f25-9daf-baac88b6495a');\n",
              "          const dataTable =\n",
              "            await google.colab.kernel.invokeFunction('convertToInteractive',\n",
              "                                                     [key], {});\n",
              "          if (!dataTable) return;\n",
              "\n",
              "          const docLinkHtml = 'Like what you see? Visit the ' +\n",
              "            '<a target=\"_blank\" href=https://colab.research.google.com/notebooks/data_table.ipynb>data table notebook</a>'\n",
              "            + ' to learn more about interactive tables.';\n",
              "          element.innerHTML = '';\n",
              "          dataTable['output_type'] = 'display_data';\n",
              "          await google.colab.output.renderOutput(dataTable, element);\n",
              "          const docLink = document.createElement('div');\n",
              "          docLink.innerHTML = docLinkHtml;\n",
              "          element.appendChild(docLink);\n",
              "        }\n",
              "      </script>\n",
              "    </div>\n",
              "  </div>\n",
              "  "
            ]
          },
          "metadata": {},
          "execution_count": 8
        }
      ]
    },
    {
      "cell_type": "code",
      "source": [
        "modelLR.fit(X, y)"
      ],
      "metadata": {
        "colab": {
          "base_uri": "https://localhost:8080/"
        },
        "id": "8tXlsaxwoBRe",
        "outputId": "53362dbe-dea9-420e-d63c-936d1e9e7bc3"
      },
      "execution_count": 9,
      "outputs": [
        {
          "output_type": "execute_result",
          "data": {
            "text/plain": [
              "LinearRegression()"
            ]
          },
          "metadata": {},
          "execution_count": 9
        }
      ]
    },
    {
      "cell_type": "code",
      "source": [
        "modelLR.coef_"
      ],
      "metadata": {
        "colab": {
          "base_uri": "https://localhost:8080/"
        },
        "id": "XMjhnr5MpZBA",
        "outputId": "cdc235b9-5de7-475e-85ba-2cfa1af95dc4"
      },
      "execution_count": 10,
      "outputs": [
        {
          "output_type": "execute_result",
          "data": {
            "text/plain": [
              "array([0.66222402, 0.98867383])"
            ]
          },
          "metadata": {},
          "execution_count": 10
        }
      ]
    },
    {
      "cell_type": "code",
      "source": [
        "modelLR.intercept_"
      ],
      "metadata": {
        "colab": {
          "base_uri": "https://localhost:8080/"
        },
        "id": "jqg4HFpfp-en",
        "outputId": "9d61c0a1-4c5a-41a5-f9ff-9b6e517dc06a"
      },
      "execution_count": 11,
      "outputs": [
        {
          "output_type": "execute_result",
          "data": {
            "text/plain": [
              "1.6488837312596765"
            ]
          },
          "metadata": {},
          "execution_count": 11
        }
      ]
    },
    {
      "cell_type": "code",
      "source": [
        "0.66222402 * 12 + 0.98867383 * 10 + 1.6488837312596765"
      ],
      "metadata": {
        "colab": {
          "base_uri": "https://localhost:8080/"
        },
        "id": "bcqG1xh4r4NY",
        "outputId": "8088013d-4830-422f-b90a-4fecb53f5c93"
      },
      "execution_count": 13,
      "outputs": [
        {
          "output_type": "execute_result",
          "data": {
            "text/plain": [
              "19.482310271259674"
            ]
          },
          "metadata": {},
          "execution_count": 13
        }
      ]
    },
    {
      "cell_type": "code",
      "source": [
        "modelLR.predict([[5.1, 4]])"
      ],
      "metadata": {
        "colab": {
          "base_uri": "https://localhost:8080/"
        },
        "id": "h_FoekkVsE4I",
        "outputId": "fe745ef1-223c-4e68-da57-49385ef095f4"
      },
      "execution_count": 14,
      "outputs": [
        {
          "output_type": "stream",
          "name": "stderr",
          "text": [
            "/usr/local/lib/python3.8/dist-packages/sklearn/base.py:450: UserWarning: X does not have valid feature names, but LinearRegression was fitted with feature names\n",
            "  warnings.warn(\n"
          ]
        },
        {
          "output_type": "execute_result",
          "data": {
            "text/plain": [
              "array([8.98092154])"
            ]
          },
          "metadata": {},
          "execution_count": 14
        }
      ]
    },
    {
      "cell_type": "code",
      "source": [
        "df_weather[\"max_temp_predict\"] = modelLR.predict(df_weather[[\"SUNHOUR\", \"MIN_TEMPERATURE_C\"]])"
      ],
      "metadata": {
        "id": "I5cELrdrsU2w"
      },
      "execution_count": 15,
      "outputs": []
    },
    {
      "cell_type": "code",
      "source": [
        "df_weather.columns"
      ],
      "metadata": {
        "colab": {
          "base_uri": "https://localhost:8080/"
        },
        "id": "hdjjamfXs4W5",
        "outputId": "724fe2ee-c6ec-4bff-f120-796bb9a40c41"
      },
      "execution_count": 16,
      "outputs": [
        {
          "output_type": "execute_result",
          "data": {
            "text/plain": [
              "Index(['DATE', 'MAX_TEMPERATURE_C', 'MIN_TEMPERATURE_C', 'WINDSPEED_MAX_KMH',\n",
              "       'TEMPERATURE_MORNING_C', 'TEMPERATURE_NOON_C', 'TEMPERATURE_EVENING_C',\n",
              "       'PRECIP_TOTAL_DAY_MM', 'HUMIDITY_MAX_PERCENT', 'VISIBILITY_AVG_KM',\n",
              "       'PRESSURE_MAX_MB', 'CLOUDCOVER_AVG_PERCENT', 'HEATINDEX_MAX_C',\n",
              "       'DEWPOINT_MAX_C', 'WINDTEMP_MAX_C', 'WEATHER_CODE_MORNING',\n",
              "       'WEATHER_CODE_NOON', 'WEATHER_CODE_EVENING', 'TOTAL_SNOW_MM',\n",
              "       'UV_INDEX', 'SUNHOUR', 'OPINION', 'MONTH', 'DAY', 'max_temp_predict'],\n",
              "      dtype='object')"
            ]
          },
          "metadata": {},
          "execution_count": 16
        }
      ]
    },
    {
      "cell_type": "code",
      "source": [
        "modelLR.score(X, y)"
      ],
      "metadata": {
        "colab": {
          "base_uri": "https://localhost:8080/"
        },
        "id": "2_n4ZtmsqJvM",
        "outputId": "624c74a3-79e8-46f8-e9cd-4e5006a9caa1"
      },
      "execution_count": 17,
      "outputs": [
        {
          "output_type": "execute_result",
          "data": {
            "text/plain": [
              "0.8674787980774968"
            ]
          },
          "metadata": {},
          "execution_count": 17
        }
      ]
    },
    {
      "cell_type": "code",
      "source": [
        "X = df_weather[['MIN_TEMPERATURE_C', 'WINDSPEED_MAX_KMH',\n",
        "       'TEMPERATURE_MORNING_C', 'TEMPERATURE_NOON_C', 'TEMPERATURE_EVENING_C',\n",
        "       'PRECIP_TOTAL_DAY_MM', 'HUMIDITY_MAX_PERCENT', 'VISIBILITY_AVG_KM',\n",
        "       'PRESSURE_MAX_MB', 'CLOUDCOVER_AVG_PERCENT', 'HEATINDEX_MAX_C',\n",
        "       'DEWPOINT_MAX_C', 'WINDTEMP_MAX_C', 'WEATHER_CODE_MORNING',\n",
        "       'WEATHER_CODE_NOON', 'WEATHER_CODE_EVENING', 'TOTAL_SNOW_MM',\n",
        "       'UV_INDEX', 'SUNHOUR']]\n",
        "y = df_weather[\"MAX_TEMPERATURE_C\"]"
      ],
      "metadata": {
        "id": "HEDAxd4Fq62n"
      },
      "execution_count": 18,
      "outputs": []
    },
    {
      "cell_type": "code",
      "source": [
        "modelLR.fit(X, y)"
      ],
      "metadata": {
        "colab": {
          "base_uri": "https://localhost:8080/"
        },
        "id": "YAL7pwj3uO1y",
        "outputId": "ab304307-8075-429f-c11c-7facb7e42b0f"
      },
      "execution_count": 19,
      "outputs": [
        {
          "output_type": "execute_result",
          "data": {
            "text/plain": [
              "LinearRegression()"
            ]
          },
          "metadata": {},
          "execution_count": 19
        }
      ]
    },
    {
      "cell_type": "code",
      "source": [
        "modelLR.score(X, y)"
      ],
      "metadata": {
        "colab": {
          "base_uri": "https://localhost:8080/"
        },
        "id": "-7Lg8KMAvEDJ",
        "outputId": "a8e1124c-8e78-41c4-afe9-8ab6117418aa"
      },
      "execution_count": 20,
      "outputs": [
        {
          "output_type": "execute_result",
          "data": {
            "text/plain": [
              "0.9940315227972812"
            ]
          },
          "metadata": {},
          "execution_count": 20
        }
      ]
    },
    {
      "cell_type": "code",
      "source": [
        "modelLR.coef_"
      ],
      "metadata": {
        "colab": {
          "base_uri": "https://localhost:8080/"
        },
        "id": "bvArZsuJuQyO",
        "outputId": "c48bfb91-34c6-4534-9b76-78f65e616fba"
      },
      "execution_count": 21,
      "outputs": [
        {
          "output_type": "execute_result",
          "data": {
            "text/plain": [
              "array([ 5.74318411e-02, -2.43528776e-03, -8.26837441e-02,  1.88168237e-01,\n",
              "        1.77191532e-01,  5.21049916e-03, -2.79532245e-03,  8.43357368e-03,\n",
              "       -1.88790203e-03, -6.33151830e-03,  5.83020168e-01, -3.64323465e-02,\n",
              "        5.79203396e-02,  5.21813394e-04,  4.08326128e-05, -2.74529872e-04,\n",
              "       -1.70870262e-16, -2.89012738e-02, -2.25701338e-02])"
            ]
          },
          "metadata": {},
          "execution_count": 21
        }
      ]
    },
    {
      "cell_type": "code",
      "source": [
        "from sklearn.linear_model import Ridge\n",
        "modelRi = Ridge(alpha = 0)\n",
        "modelRi.fit(X, y)\n",
        "modelRi.score(X, y)"
      ],
      "metadata": {
        "colab": {
          "base_uri": "https://localhost:8080/"
        },
        "id": "U2sajYjWu7qq",
        "outputId": "ef3842e3-b587-48b0-ec32-b021f15cae00"
      },
      "execution_count": 22,
      "outputs": [
        {
          "output_type": "execute_result",
          "data": {
            "text/plain": [
              "0.9940315227972812"
            ]
          },
          "metadata": {},
          "execution_count": 22
        }
      ]
    },
    {
      "cell_type": "code",
      "source": [
        "modelRi.coef_"
      ],
      "metadata": {
        "colab": {
          "base_uri": "https://localhost:8080/"
        },
        "id": "PuojY7g2vDd5",
        "outputId": "9ee87149-0523-4f72-edfe-f42512abd3a5"
      },
      "execution_count": 23,
      "outputs": [
        {
          "output_type": "execute_result",
          "data": {
            "text/plain": [
              "array([ 5.74318411e-02, -2.43528776e-03, -8.26837441e-02,  1.88168237e-01,\n",
              "        1.77191532e-01,  5.21049916e-03, -2.79532245e-03,  8.43357368e-03,\n",
              "       -1.88790203e-03, -6.33151830e-03,  5.83020168e-01, -3.64323465e-02,\n",
              "        5.79203396e-02,  5.21813394e-04,  4.08326128e-05, -2.74529872e-04,\n",
              "       -1.69132838e-16, -2.89012738e-02, -2.25701338e-02])"
            ]
          },
          "metadata": {},
          "execution_count": 23
        }
      ]
    },
    {
      "cell_type": "code",
      "source": [
        "modelRi = Ridge(alpha = 10000)\n",
        "modelRi.fit(X, y)\n",
        "modelRi.score(X, y)"
      ],
      "metadata": {
        "colab": {
          "base_uri": "https://localhost:8080/"
        },
        "id": "EngSF2PqvtKW",
        "outputId": "8c097357-f645-4dee-a050-f9e27c906c0f"
      },
      "execution_count": 24,
      "outputs": [
        {
          "output_type": "execute_result",
          "data": {
            "text/plain": [
              "0.9735555600666693"
            ]
          },
          "metadata": {},
          "execution_count": 24
        }
      ]
    },
    {
      "cell_type": "code",
      "source": [
        "modelRi.coef_"
      ],
      "metadata": {
        "colab": {
          "base_uri": "https://localhost:8080/"
        },
        "id": "38gnguoZvzBZ",
        "outputId": "a078bc48-59f6-43e9-e2de-569801562931"
      },
      "execution_count": 25,
      "outputs": [
        {
          "output_type": "execute_result",
          "data": {
            "text/plain": [
              "array([ 0.09085645, -0.02193422,  0.08547004,  0.1392441 ,  0.15280786,\n",
              "       -0.000375  , -0.06727133, -0.00522907, -0.01201123, -0.0284427 ,\n",
              "        0.16725201,  0.08638798,  0.13742009, -0.00075269, -0.00026809,\n",
              "       -0.00180038,  0.        ,  0.00986924,  0.02994225])"
            ]
          },
          "metadata": {},
          "execution_count": 25
        }
      ]
    },
    {
      "cell_type": "code",
      "metadata": {
        "id": "rGg7wuwaBUGl",
        "colab": {
          "base_uri": "https://localhost:8080/",
          "height": 542
        },
        "outputId": "1eae3a29-cdc9-4900-c712-cf397eb1e236"
      },
      "source": [
        "# Complete x, y and z in the script below:\n",
        "px.scatter_3d(x = \"MIN_TEMPERATURE_C\", \n",
        "              y = \"MAX_TEMPERATURE_C\", \n",
        "              z= \"SUNHOUR\", \n",
        "              data_frame=df_weather)\n"
      ],
      "execution_count": 26,
      "outputs": [
        {
          "output_type": "display_data",
          "data": {
            "text/html": [
              "<html>\n",
              "<head><meta charset=\"utf-8\" /></head>\n",
              "<body>\n",
              "    <div>            <script src=\"https://cdnjs.cloudflare.com/ajax/libs/mathjax/2.7.5/MathJax.js?config=TeX-AMS-MML_SVG\"></script><script type=\"text/javascript\">if (window.MathJax) {MathJax.Hub.Config({SVG: {font: \"STIX-Web\"}});}</script>                <script type=\"text/javascript\">window.PlotlyConfig = {MathJaxConfig: 'local'};</script>\n",
              "        <script src=\"https://cdn.plot.ly/plotly-2.8.3.min.js\"></script>                <div id=\"3d112ff8-905b-4167-b5b9-bf7403c56994\" class=\"plotly-graph-div\" style=\"height:525px; width:100%;\"></div>            <script type=\"text/javascript\">                                    window.PLOTLYENV=window.PLOTLYENV || {};                                    if (document.getElementById(\"3d112ff8-905b-4167-b5b9-bf7403c56994\")) {                    Plotly.newPlot(                        \"3d112ff8-905b-4167-b5b9-bf7403c56994\",                        [{\"hovertemplate\":\"MIN_TEMPERATURE_C=%{x}<br>MAX_TEMPERATURE_C=%{y}<br>SUNHOUR=%{z}<extra></extra>\",\"legendgroup\":\"\",\"marker\":{\"color\":\"#636efa\",\"symbol\":\"circle\"},\"mode\":\"markers\",\"name\":\"\",\"scene\":\"scene\",\"showlegend\":false,\"x\":[4,5,0,-1,-1,2,4,6,5,1,2,3,7,8,4,1,5,1,6,4,0,5,3,0,8,8,7,4,5,3,2,6,2,0,5,4,10,9,8,9,8,5,3,2,2,6,6,7,5,5,4,6,7,8,5,5,7,9,9,7,6,9,7,7,9,6,5,8,8,5,4,6,6,10,10,5,4,3,4,5,6,7,5,3,1,2,3,4,6,7,6,6,3,1,5,4,7,5,6,5,6,2,2,4,4,8,7,9,12,11,11,10,11,9,7,6,7,6,6,6,9,7,6,5,2,3,6,9,9,8,10,7,6,8,9,8,10,10,8,8,8,11,13,10,10,11,13,9,8,11,11,16,15,14,13,10,9,13,11,10,9,7,8,10,10,10,13,10,17,14,12,10,11,15,16,15,19,23,25,18,16,15,11,15,16,17,18,16,15,14,15,18,17,13,15,13,14,15,13,14,16,15,16,21,19,23,10,14,12,13,15,14,14,15,17,16,16,17,15,15,19,15,14,13,10,13,15,14,18,14,13,12,12,14,15,18,16,17,19,16,15,14,15,13,10,11,13,10,7,12,9,10,10,11,14,14,16,16,15,13,12,11,11,17,15,13,15,14,16,14,13,13,12,14,11,9,13,13,12,5,12,12,12,12,13,15,13,10,12,10,13,12,11,8,8,12,12,11,12,9,9,9,9,13,12,11,8,8,8,7,5,5,5,5,7,6,4,5,2,5,3,3,4,2,5,5,7,3,11,10,11,6,8,7,3,1,1,0,1,3,10,10,6,4,5,5,2,7,4,4,7,7,11,7,9,4,5,9,8,5,10,5,2,4,4],\"y\":[9,8,6,5,6,5,10,10,7,7,10,9,10,10,9,8,9,7,11,7,7,8,7,7,11,10,8,8,9,7,8,9,7,8,7,10,12,11,11,12,11,10,12,10,13,15,14,15,12,12,13,17,17,18,14,15,19,20,13,14,13,14,11,13,12,11,12,13,12,11,11,10,11,13,11,11,11,12,13,15,18,17,13,12,12,13,14,16,17,19,18,12,10,10,10,10,14,12,16,14,14,14,12,9,14,15,19,21,24,21,21,19,18,14,13,14,13,12,16,18,17,15,15,11,12,15,14,15,15,15,16,16,16,18,18,17,17,14,17,18,20,21,21,20,19,17,19,15,15,20,25,29,23,20,19,16,18,15,18,16,17,15,16,18,19,18,19,25,28,20,20,20,23,27,23,26,31,34,34,32,26,24,25,26,28,30,31,28,27,25,28,26,26,27,26,26,29,27,22,26,25,26,33,39,33,32,22,23,23,24,21,23,27,29,29,26,25,23,25,28,23,23,23,22,22,20,22,22,19,21,21,23,26,28,30,33,30,33,29,24,25,30,23,23,24,26,20,19,23,22,21,17,22,22,24,28,29,31,21,27,23,23,27,28,21,20,20,17,19,19,19,20,21,19,19,19,17,18,18,14,18,16,18,20,21,20,20,16,16,17,16,16,15,16,16,15,14,18,19,15,12,14,17,16,17,14,14,13,12,13,11,11,10,11,11,11,9,11,8,9,8,10,9,7,11,10,12,12,13,14,13,13,13,9,7,7,7,8,7,11,13,13,11,11,9,12,10,12,10,11,12,12,13,12,11,10,10,14,11,12,13,11,9,12,10],\"z\":[5.1,8.7,8.7,5.1,8.7,3.3,5.1,3.3,3.3,8.7,5.1,6.9,3.3,3.3,8.7,3.4,8.7,8.7,3.4,5.2,8.7,3.4,5.2,5.2,3.4,3.5,8.2,6.5,4.8,6.5,4.9,4.9,9.8,9.8,4.9,4.9,5.0,6.6,5.0,6.6,8.3,8.3,10.1,10.1,10.2,10.2,8.4,10.2,6.8,5.2,10.0,10.4,10.4,10.8,8.5,10.9,10.9,11.0,5.5,10.1,10.1,5.6,8.6,10.1,5.6,8.7,10.2,5.9,7.3,10.2,7.3,11.6,5.9,6.0,6.0,11.6,8.8,7.4,7.4,11.6,11.6,11.6,10.2,8.9,11.6,11.6,10.3,9.0,10.3,10.3,9.0,6.5,7.8,7.8,6.5,6.5,7.8,9.1,10.3,7.9,11.6,11.6,11.6,7.9,9.1,11.6,10.4,11.6,11.6,9.3,9.3,9.3,8.2,7.0,9.3,13.4,10.2,9.1,10.2,14.5,12.4,12.4,11.3,11.3,13.4,11.4,10.3,11.4,9.3,9.3,11.4,14.5,14.5,14.5,14.5,10.4,11.5,9.5,10.5,9.5,12.5,11.5,13.5,13.5,11.5,9.6,12.5,11.5,10.6,11.6,14.5,14.5,13.5,12.6,9.7,9.7,11.6,9.7,13.7,13.8,14.7,13.8,12.9,14.7,15.9,13.8,14.7,16.0,16.0,12.9,16.0,14.7,16.0,16.0,12.9,16.0,16.0,15.9,15.9,15.9,15.6,15.9,15.9,15.9,15.9,15.9,14.6,15.9,15.8,15.8,15.8,15.8,13.7,15.8,14.5,14.5,13.5,14.5,10.5,13.5,11.5,14.5,14.5,14.5,14.5,13.5,9.4,10.4,14.5,13.5,10.4,13.5,14.5,14.5,14.5,14.5,11.4,9.3,12.4,14.5,11.3,11.3,12.4,9.2,13.4,7.1,9.3,11.6,7.1,9.3,10.5,11.6,9.3,11.6,11.6,10.4,11.6,10.4,10.4,9.1,9.1,10.4,11.6,11.6,11.6,11.6,7.8,9.1,11.6,10.3,11.6,7.8,11.6,11.6,10.3,11.6,11.6,11.6,11.6,11.6,11.6,11.6,11.6,10.3,7.6,6.2,7.6,6.0,6.0,8.8,5.8,7.2,5.7,5.7,5.7,11.4,7.1,5.6,11.3,5.6,7.1,7.1,8.6,10.1,11.1,8.6,7.0,8.5,5.5,7.0,8.5,5.4,5.4,10.0,10.7,5.3,5.3,6.9,10.6,3.8,3.8,3.8,5.4,3.8,3.8,3.7,3.7,5.4,3.7,7.0,3.7,7.0,3.5,5.2,5.2,5.2,5.2,7.0,7.0,3.5,8.7,8.7,6.9,5.2,3.4,3.4,6.9,5.2,3.4,3.4,3.4,3.3,6.9,3.3,3.3,8.7,8.7,6.9,8.7,3.3,3.3,3.3,5.1,3.3,8.7,3.3,3.3,3.3,6.9,3.3,3.3,5.1,3.3,5.1,6.9,5.1,6.9,8.7,8.7,5.1,8.7,6.9,8.7,8.7,8.7],\"type\":\"scatter3d\"}],                        {\"template\":{\"data\":{\"bar\":[{\"error_x\":{\"color\":\"#2a3f5f\"},\"error_y\":{\"color\":\"#2a3f5f\"},\"marker\":{\"line\":{\"color\":\"#E5ECF6\",\"width\":0.5},\"pattern\":{\"fillmode\":\"overlay\",\"size\":10,\"solidity\":0.2}},\"type\":\"bar\"}],\"barpolar\":[{\"marker\":{\"line\":{\"color\":\"#E5ECF6\",\"width\":0.5},\"pattern\":{\"fillmode\":\"overlay\",\"size\":10,\"solidity\":0.2}},\"type\":\"barpolar\"}],\"carpet\":[{\"aaxis\":{\"endlinecolor\":\"#2a3f5f\",\"gridcolor\":\"white\",\"linecolor\":\"white\",\"minorgridcolor\":\"white\",\"startlinecolor\":\"#2a3f5f\"},\"baxis\":{\"endlinecolor\":\"#2a3f5f\",\"gridcolor\":\"white\",\"linecolor\":\"white\",\"minorgridcolor\":\"white\",\"startlinecolor\":\"#2a3f5f\"},\"type\":\"carpet\"}],\"choropleth\":[{\"colorbar\":{\"outlinewidth\":0,\"ticks\":\"\"},\"type\":\"choropleth\"}],\"contour\":[{\"colorbar\":{\"outlinewidth\":0,\"ticks\":\"\"},\"colorscale\":[[0.0,\"#0d0887\"],[0.1111111111111111,\"#46039f\"],[0.2222222222222222,\"#7201a8\"],[0.3333333333333333,\"#9c179e\"],[0.4444444444444444,\"#bd3786\"],[0.5555555555555556,\"#d8576b\"],[0.6666666666666666,\"#ed7953\"],[0.7777777777777778,\"#fb9f3a\"],[0.8888888888888888,\"#fdca26\"],[1.0,\"#f0f921\"]],\"type\":\"contour\"}],\"contourcarpet\":[{\"colorbar\":{\"outlinewidth\":0,\"ticks\":\"\"},\"type\":\"contourcarpet\"}],\"heatmap\":[{\"colorbar\":{\"outlinewidth\":0,\"ticks\":\"\"},\"colorscale\":[[0.0,\"#0d0887\"],[0.1111111111111111,\"#46039f\"],[0.2222222222222222,\"#7201a8\"],[0.3333333333333333,\"#9c179e\"],[0.4444444444444444,\"#bd3786\"],[0.5555555555555556,\"#d8576b\"],[0.6666666666666666,\"#ed7953\"],[0.7777777777777778,\"#fb9f3a\"],[0.8888888888888888,\"#fdca26\"],[1.0,\"#f0f921\"]],\"type\":\"heatmap\"}],\"heatmapgl\":[{\"colorbar\":{\"outlinewidth\":0,\"ticks\":\"\"},\"colorscale\":[[0.0,\"#0d0887\"],[0.1111111111111111,\"#46039f\"],[0.2222222222222222,\"#7201a8\"],[0.3333333333333333,\"#9c179e\"],[0.4444444444444444,\"#bd3786\"],[0.5555555555555556,\"#d8576b\"],[0.6666666666666666,\"#ed7953\"],[0.7777777777777778,\"#fb9f3a\"],[0.8888888888888888,\"#fdca26\"],[1.0,\"#f0f921\"]],\"type\":\"heatmapgl\"}],\"histogram\":[{\"marker\":{\"pattern\":{\"fillmode\":\"overlay\",\"size\":10,\"solidity\":0.2}},\"type\":\"histogram\"}],\"histogram2d\":[{\"colorbar\":{\"outlinewidth\":0,\"ticks\":\"\"},\"colorscale\":[[0.0,\"#0d0887\"],[0.1111111111111111,\"#46039f\"],[0.2222222222222222,\"#7201a8\"],[0.3333333333333333,\"#9c179e\"],[0.4444444444444444,\"#bd3786\"],[0.5555555555555556,\"#d8576b\"],[0.6666666666666666,\"#ed7953\"],[0.7777777777777778,\"#fb9f3a\"],[0.8888888888888888,\"#fdca26\"],[1.0,\"#f0f921\"]],\"type\":\"histogram2d\"}],\"histogram2dcontour\":[{\"colorbar\":{\"outlinewidth\":0,\"ticks\":\"\"},\"colorscale\":[[0.0,\"#0d0887\"],[0.1111111111111111,\"#46039f\"],[0.2222222222222222,\"#7201a8\"],[0.3333333333333333,\"#9c179e\"],[0.4444444444444444,\"#bd3786\"],[0.5555555555555556,\"#d8576b\"],[0.6666666666666666,\"#ed7953\"],[0.7777777777777778,\"#fb9f3a\"],[0.8888888888888888,\"#fdca26\"],[1.0,\"#f0f921\"]],\"type\":\"histogram2dcontour\"}],\"mesh3d\":[{\"colorbar\":{\"outlinewidth\":0,\"ticks\":\"\"},\"type\":\"mesh3d\"}],\"parcoords\":[{\"line\":{\"colorbar\":{\"outlinewidth\":0,\"ticks\":\"\"}},\"type\":\"parcoords\"}],\"pie\":[{\"automargin\":true,\"type\":\"pie\"}],\"scatter\":[{\"marker\":{\"colorbar\":{\"outlinewidth\":0,\"ticks\":\"\"}},\"type\":\"scatter\"}],\"scatter3d\":[{\"line\":{\"colorbar\":{\"outlinewidth\":0,\"ticks\":\"\"}},\"marker\":{\"colorbar\":{\"outlinewidth\":0,\"ticks\":\"\"}},\"type\":\"scatter3d\"}],\"scattercarpet\":[{\"marker\":{\"colorbar\":{\"outlinewidth\":0,\"ticks\":\"\"}},\"type\":\"scattercarpet\"}],\"scattergeo\":[{\"marker\":{\"colorbar\":{\"outlinewidth\":0,\"ticks\":\"\"}},\"type\":\"scattergeo\"}],\"scattergl\":[{\"marker\":{\"colorbar\":{\"outlinewidth\":0,\"ticks\":\"\"}},\"type\":\"scattergl\"}],\"scattermapbox\":[{\"marker\":{\"colorbar\":{\"outlinewidth\":0,\"ticks\":\"\"}},\"type\":\"scattermapbox\"}],\"scatterpolar\":[{\"marker\":{\"colorbar\":{\"outlinewidth\":0,\"ticks\":\"\"}},\"type\":\"scatterpolar\"}],\"scatterpolargl\":[{\"marker\":{\"colorbar\":{\"outlinewidth\":0,\"ticks\":\"\"}},\"type\":\"scatterpolargl\"}],\"scatterternary\":[{\"marker\":{\"colorbar\":{\"outlinewidth\":0,\"ticks\":\"\"}},\"type\":\"scatterternary\"}],\"surface\":[{\"colorbar\":{\"outlinewidth\":0,\"ticks\":\"\"},\"colorscale\":[[0.0,\"#0d0887\"],[0.1111111111111111,\"#46039f\"],[0.2222222222222222,\"#7201a8\"],[0.3333333333333333,\"#9c179e\"],[0.4444444444444444,\"#bd3786\"],[0.5555555555555556,\"#d8576b\"],[0.6666666666666666,\"#ed7953\"],[0.7777777777777778,\"#fb9f3a\"],[0.8888888888888888,\"#fdca26\"],[1.0,\"#f0f921\"]],\"type\":\"surface\"}],\"table\":[{\"cells\":{\"fill\":{\"color\":\"#EBF0F8\"},\"line\":{\"color\":\"white\"}},\"header\":{\"fill\":{\"color\":\"#C8D4E3\"},\"line\":{\"color\":\"white\"}},\"type\":\"table\"}]},\"layout\":{\"annotationdefaults\":{\"arrowcolor\":\"#2a3f5f\",\"arrowhead\":0,\"arrowwidth\":1},\"autotypenumbers\":\"strict\",\"coloraxis\":{\"colorbar\":{\"outlinewidth\":0,\"ticks\":\"\"}},\"colorscale\":{\"diverging\":[[0,\"#8e0152\"],[0.1,\"#c51b7d\"],[0.2,\"#de77ae\"],[0.3,\"#f1b6da\"],[0.4,\"#fde0ef\"],[0.5,\"#f7f7f7\"],[0.6,\"#e6f5d0\"],[0.7,\"#b8e186\"],[0.8,\"#7fbc41\"],[0.9,\"#4d9221\"],[1,\"#276419\"]],\"sequential\":[[0.0,\"#0d0887\"],[0.1111111111111111,\"#46039f\"],[0.2222222222222222,\"#7201a8\"],[0.3333333333333333,\"#9c179e\"],[0.4444444444444444,\"#bd3786\"],[0.5555555555555556,\"#d8576b\"],[0.6666666666666666,\"#ed7953\"],[0.7777777777777778,\"#fb9f3a\"],[0.8888888888888888,\"#fdca26\"],[1.0,\"#f0f921\"]],\"sequentialminus\":[[0.0,\"#0d0887\"],[0.1111111111111111,\"#46039f\"],[0.2222222222222222,\"#7201a8\"],[0.3333333333333333,\"#9c179e\"],[0.4444444444444444,\"#bd3786\"],[0.5555555555555556,\"#d8576b\"],[0.6666666666666666,\"#ed7953\"],[0.7777777777777778,\"#fb9f3a\"],[0.8888888888888888,\"#fdca26\"],[1.0,\"#f0f921\"]]},\"colorway\":[\"#636efa\",\"#EF553B\",\"#00cc96\",\"#ab63fa\",\"#FFA15A\",\"#19d3f3\",\"#FF6692\",\"#B6E880\",\"#FF97FF\",\"#FECB52\"],\"font\":{\"color\":\"#2a3f5f\"},\"geo\":{\"bgcolor\":\"white\",\"lakecolor\":\"white\",\"landcolor\":\"#E5ECF6\",\"showlakes\":true,\"showland\":true,\"subunitcolor\":\"white\"},\"hoverlabel\":{\"align\":\"left\"},\"hovermode\":\"closest\",\"mapbox\":{\"style\":\"light\"},\"paper_bgcolor\":\"white\",\"plot_bgcolor\":\"#E5ECF6\",\"polar\":{\"angularaxis\":{\"gridcolor\":\"white\",\"linecolor\":\"white\",\"ticks\":\"\"},\"bgcolor\":\"#E5ECF6\",\"radialaxis\":{\"gridcolor\":\"white\",\"linecolor\":\"white\",\"ticks\":\"\"}},\"scene\":{\"xaxis\":{\"backgroundcolor\":\"#E5ECF6\",\"gridcolor\":\"white\",\"gridwidth\":2,\"linecolor\":\"white\",\"showbackground\":true,\"ticks\":\"\",\"zerolinecolor\":\"white\"},\"yaxis\":{\"backgroundcolor\":\"#E5ECF6\",\"gridcolor\":\"white\",\"gridwidth\":2,\"linecolor\":\"white\",\"showbackground\":true,\"ticks\":\"\",\"zerolinecolor\":\"white\"},\"zaxis\":{\"backgroundcolor\":\"#E5ECF6\",\"gridcolor\":\"white\",\"gridwidth\":2,\"linecolor\":\"white\",\"showbackground\":true,\"ticks\":\"\",\"zerolinecolor\":\"white\"}},\"shapedefaults\":{\"line\":{\"color\":\"#2a3f5f\"}},\"ternary\":{\"aaxis\":{\"gridcolor\":\"white\",\"linecolor\":\"white\",\"ticks\":\"\"},\"baxis\":{\"gridcolor\":\"white\",\"linecolor\":\"white\",\"ticks\":\"\"},\"bgcolor\":\"#E5ECF6\",\"caxis\":{\"gridcolor\":\"white\",\"linecolor\":\"white\",\"ticks\":\"\"}},\"title\":{\"x\":0.05},\"xaxis\":{\"automargin\":true,\"gridcolor\":\"white\",\"linecolor\":\"white\",\"ticks\":\"\",\"title\":{\"standoff\":15},\"zerolinecolor\":\"white\",\"zerolinewidth\":2},\"yaxis\":{\"automargin\":true,\"gridcolor\":\"white\",\"linecolor\":\"white\",\"ticks\":\"\",\"title\":{\"standoff\":15},\"zerolinecolor\":\"white\",\"zerolinewidth\":2}}},\"scene\":{\"domain\":{\"x\":[0.0,1.0],\"y\":[0.0,1.0]},\"xaxis\":{\"title\":{\"text\":\"MIN_TEMPERATURE_C\"}},\"yaxis\":{\"title\":{\"text\":\"MAX_TEMPERATURE_C\"}},\"zaxis\":{\"title\":{\"text\":\"SUNHOUR\"}}},\"legend\":{\"tracegroupgap\":0},\"margin\":{\"t\":60}},                        {\"responsive\": true}                    ).then(function(){\n",
              "                            \n",
              "var gd = document.getElementById('3d112ff8-905b-4167-b5b9-bf7403c56994');\n",
              "var x = new MutationObserver(function (mutations, observer) {{\n",
              "        var display = window.getComputedStyle(gd).display;\n",
              "        if (!display || display === 'none') {{\n",
              "            console.log([gd, 'removed!']);\n",
              "            Plotly.purge(gd);\n",
              "            observer.disconnect();\n",
              "        }}\n",
              "}});\n",
              "\n",
              "// Listen for the removal of the full notebook cells\n",
              "var notebookContainer = gd.closest('#notebook-container');\n",
              "if (notebookContainer) {{\n",
              "    x.observe(notebookContainer, {childList: true});\n",
              "}}\n",
              "\n",
              "// Listen for the clearing of the current output cell\n",
              "var outputEl = gd.closest('.output');\n",
              "if (outputEl) {{\n",
              "    x.observe(outputEl, {childList: true});\n",
              "}}\n",
              "\n",
              "                        })                };                            </script>        </div>\n",
              "</body>\n",
              "</html>"
            ]
          },
          "metadata": {}
        }
      ]
    },
    {
      "cell_type": "markdown",
      "metadata": {
        "id": "InejYeyOTBJK"
      },
      "source": [
        "Is it hard to read the 3D scatterplot ? You can move it with your mouse."
      ]
    },
    {
      "cell_type": "markdown",
      "metadata": {
        "id": "66WDMy95Q_Zx"
      },
      "source": [
        "### Let's predict\n",
        "You have to predict the MAX temperature from 2 variables :\n",
        "- MIN temperature\n",
        "- Sunhours\n",
        "\n",
        "Hey, it's the reason why X has 2 brackets and is uppercase and y has a simple bracket and is lowercase . It can take multiple variables (X) to predict only one target (y). \n",
        "\n",
        "**Remember to save the result of your prediction in a new column 'predict'.**"
      ]
    },
    {
      "cell_type": "code",
      "metadata": {
        "id": "rSAZ0_18Rxbj",
        "outputId": "805647d6-ea3f-41a5-e049-2401c982f4ae",
        "colab": {
          "base_uri": "https://localhost:8080/",
          "height": 131
        }
      },
      "source": [
        "# Your code here :\n",
        "X = \n",
        "y = \n"
      ],
      "execution_count": 27,
      "outputs": [
        {
          "output_type": "error",
          "ename": "SyntaxError",
          "evalue": "ignored",
          "traceback": [
            "\u001b[0;36m  File \u001b[0;32m\"<ipython-input-27-b561367ea6ee>\"\u001b[0;36m, line \u001b[0;32m2\u001b[0m\n\u001b[0;31m    X =\u001b[0m\n\u001b[0m        ^\u001b[0m\n\u001b[0;31mSyntaxError\u001b[0m\u001b[0;31m:\u001b[0m invalid syntax\n"
          ]
        }
      ]
    },
    {
      "cell_type": "markdown",
      "source": [
        "# Live coding 20221214 Train test split\n"
      ],
      "metadata": {
        "id": "CwzXy1VtPbrW"
      }
    },
    {
      "cell_type": "code",
      "source": [
        "X = df_weather[['MIN_TEMPERATURE_C', 'WINDSPEED_MAX_KMH',\n",
        "       'TEMPERATURE_MORNING_C', 'TEMPERATURE_NOON_C', 'TEMPERATURE_EVENING_C',\n",
        "       'PRECIP_TOTAL_DAY_MM', 'HUMIDITY_MAX_PERCENT', 'VISIBILITY_AVG_KM',\n",
        "       'PRESSURE_MAX_MB', 'CLOUDCOVER_AVG_PERCENT', 'HEATINDEX_MAX_C',\n",
        "       'DEWPOINT_MAX_C', 'WINDTEMP_MAX_C', 'WEATHER_CODE_MORNING',\n",
        "       'WEATHER_CODE_NOON', 'WEATHER_CODE_EVENING', 'TOTAL_SNOW_MM',\n",
        "       'UV_INDEX', 'SUNHOUR']]\n",
        "y = df_weather[\"MAX_TEMPERATURE_C\"]"
      ],
      "metadata": {
        "id": "YeazWBi4Pexa"
      },
      "execution_count": 28,
      "outputs": []
    },
    {
      "cell_type": "code",
      "source": [
        "modelLR = LinearRegression()\n",
        "modelLR.fit(X, y)"
      ],
      "metadata": {
        "colab": {
          "base_uri": "https://localhost:8080/"
        },
        "id": "-hORj5OyPiqi",
        "outputId": "a1c0d613-9696-4ed4-db7b-e30fbd4439af"
      },
      "execution_count": 29,
      "outputs": [
        {
          "output_type": "execute_result",
          "data": {
            "text/plain": [
              "LinearRegression()"
            ]
          },
          "metadata": {},
          "execution_count": 29
        }
      ]
    },
    {
      "cell_type": "code",
      "source": [
        "modelLR.score(X, y)"
      ],
      "metadata": {
        "colab": {
          "base_uri": "https://localhost:8080/"
        },
        "id": "var2yZpEPmcI",
        "outputId": "8ce539e6-9bb0-47d3-de63-a1f0c1b87e95"
      },
      "execution_count": 30,
      "outputs": [
        {
          "output_type": "execute_result",
          "data": {
            "text/plain": [
              "0.9940315227972812"
            ]
          },
          "metadata": {},
          "execution_count": 30
        }
      ]
    },
    {
      "cell_type": "code",
      "source": [
        "from sklearn.model_selection import train_test_split"
      ],
      "metadata": {
        "id": "AgFA_G0HP77B"
      },
      "execution_count": 31,
      "outputs": []
    },
    {
      "cell_type": "code",
      "source": [
        "X_train, X_test, y_train, y_test = train_test_split(X, y)"
      ],
      "metadata": {
        "id": "Ey81XVNIQCEQ"
      },
      "execution_count": 32,
      "outputs": []
    },
    {
      "cell_type": "code",
      "source": [
        "def simple_carre(integer):\n",
        "    return integer, integer * integer"
      ],
      "metadata": {
        "id": "KPWUnuXdQKGj"
      },
      "execution_count": 33,
      "outputs": []
    },
    {
      "cell_type": "code",
      "source": [
        "simple_carre(4)"
      ],
      "metadata": {
        "colab": {
          "base_uri": "https://localhost:8080/"
        },
        "id": "Z5mNzL3CQU_a",
        "outputId": "41240ae5-7e59-4fb6-a0fa-97467bd0e7a1"
      },
      "execution_count": 34,
      "outputs": [
        {
          "output_type": "execute_result",
          "data": {
            "text/plain": [
              "(4, 16)"
            ]
          },
          "metadata": {},
          "execution_count": 34
        }
      ]
    },
    {
      "cell_type": "code",
      "source": [
        "simple, carre = simple_carre(4)"
      ],
      "metadata": {
        "id": "nSdcwDDuQfkV"
      },
      "execution_count": 35,
      "outputs": []
    },
    {
      "cell_type": "code",
      "source": [
        "simple"
      ],
      "metadata": {
        "colab": {
          "base_uri": "https://localhost:8080/"
        },
        "id": "kk40uIIbQjxr",
        "outputId": "fa3ecd22-7591-4cda-e9be-278e63a4dfb5"
      },
      "execution_count": 36,
      "outputs": [
        {
          "output_type": "execute_result",
          "data": {
            "text/plain": [
              "4"
            ]
          },
          "metadata": {},
          "execution_count": 36
        }
      ]
    },
    {
      "cell_type": "code",
      "source": [
        "carre"
      ],
      "metadata": {
        "colab": {
          "base_uri": "https://localhost:8080/"
        },
        "id": "AowIVcjaQkuS",
        "outputId": "8ae3e617-0afa-4c95-fd4a-df3ad6ead5e6"
      },
      "execution_count": 37,
      "outputs": [
        {
          "output_type": "execute_result",
          "data": {
            "text/plain": [
              "16"
            ]
          },
          "metadata": {},
          "execution_count": 37
        }
      ]
    },
    {
      "cell_type": "code",
      "source": [
        "X_train, X_test, y_train, y_test = train_test_split(X, y)"
      ],
      "metadata": {
        "id": "JsOPu1b8Qrp2"
      },
      "execution_count": 38,
      "outputs": []
    },
    {
      "cell_type": "code",
      "source": [
        "X_train, X_test, y_train, y_test = train_test_split(X, y, train_size= 0.75, shuffle = True, \n",
        "                                                    )\n",
        "X_train"
      ],
      "metadata": {
        "colab": {
          "base_uri": "https://localhost:8080/",
          "height": 488
        },
        "id": "2GmO8fZfQ7Rz",
        "outputId": "19ed2933-8bd8-4a39-f66e-46cb8df77ce8"
      },
      "execution_count": 39,
      "outputs": [
        {
          "output_type": "execute_result",
          "data": {
            "text/plain": [
              "     MIN_TEMPERATURE_C  WINDSPEED_MAX_KMH  TEMPERATURE_MORNING_C  \\\n",
              "312                  5                 28                      5   \n",
              "300                  9                 19                     10   \n",
              "185                 17                 20                     19   \n",
              "126                  6                 13                      6   \n",
              "220                 19                 37                     20   \n",
              "..                 ...                ...                    ...   \n",
              "275                  9                 17                      9   \n",
              "246                 13                 17                     13   \n",
              "171                 10                 13                     12   \n",
              "114                  7                 33                      9   \n",
              "157                 13                 42                     14   \n",
              "\n",
              "     TEMPERATURE_NOON_C  TEMPERATURE_EVENING_C  PRECIP_TOTAL_DAY_MM  \\\n",
              "312                   9                      9                 10.1   \n",
              "300                  11                     11                  1.7   \n",
              "185                  28                     30                  0.6   \n",
              "126                  14                     12                  1.2   \n",
              "220                  21                     22                  5.5   \n",
              "..                  ...                    ...                  ...   \n",
              "275                  17                     17                  0.3   \n",
              "246                  19                     20                  0.3   \n",
              "171                  20                     19                  0.5   \n",
              "114                  13                     12                  4.4   \n",
              "157                  15                     13                 27.3   \n",
              "\n",
              "     HUMIDITY_MAX_PERCENT  VISIBILITY_AVG_KM  PRESSURE_MAX_MB  \\\n",
              "312                    86              9.375             1014   \n",
              "300                    90              6.375             1020   \n",
              "185                    67             10.000             1018   \n",
              "126                    72              8.000             1021   \n",
              "220                    80              9.750             1010   \n",
              "..                    ...                ...              ...   \n",
              "275                    65              9.375             1021   \n",
              "246                    69             10.000             1024   \n",
              "171                    70              9.875             1021   \n",
              "114                    80              9.375             1007   \n",
              "157                    83              8.625             1015   \n",
              "\n",
              "     CLOUDCOVER_AVG_PERCENT  HEATINDEX_MAX_C  DEWPOINT_MAX_C  WINDTEMP_MAX_C  \\\n",
              "312                  65.500               10               8               5   \n",
              "300                  91.625               12               9               7   \n",
              "185                  18.250               32              19              23   \n",
              "126                  52.875               14               9               9   \n",
              "220                  51.500               25              19              21   \n",
              "..                      ...              ...             ...             ...   \n",
              "275                  43.125               19              14              11   \n",
              "246                  32.500               22              14              17   \n",
              "171                  47.750               20              12              16   \n",
              "114                  73.000               13               8               8   \n",
              "157                  81.125               15              12              12   \n",
              "\n",
              "     WEATHER_CODE_MORNING  WEATHER_CODE_NOON  WEATHER_CODE_EVENING  \\\n",
              "312                   116                122                   302   \n",
              "300                   266                266                   119   \n",
              "185                   116                116                   116   \n",
              "126                   116                119                   266   \n",
              "220                   353                176                   116   \n",
              "..                    ...                ...                   ...   \n",
              "275                   116                116                   116   \n",
              "246                   113                116                   176   \n",
              "171                   116                116                   176   \n",
              "114                   353                353                   176   \n",
              "157                   299                353                   356   \n",
              "\n",
              "     TOTAL_SNOW_MM  UV_INDEX  SUNHOUR  \n",
              "312              0         1      3.5  \n",
              "300              0         1      3.8  \n",
              "185              0         1     15.9  \n",
              "126              0         1     10.3  \n",
              "220              0         6     11.3  \n",
              "..             ...       ...      ...  \n",
              "275              0         1     11.4  \n",
              "246              0         1      7.8  \n",
              "171              0         1     14.7  \n",
              "114              0         1      9.3  \n",
              "157              0         1      9.7  \n",
              "\n",
              "[273 rows x 19 columns]"
            ],
            "text/html": [
              "\n",
              "  <div id=\"df-801f7e63-2a2a-4f20-8f3f-5069f79428e5\">\n",
              "    <div class=\"colab-df-container\">\n",
              "      <div>\n",
              "<style scoped>\n",
              "    .dataframe tbody tr th:only-of-type {\n",
              "        vertical-align: middle;\n",
              "    }\n",
              "\n",
              "    .dataframe tbody tr th {\n",
              "        vertical-align: top;\n",
              "    }\n",
              "\n",
              "    .dataframe thead th {\n",
              "        text-align: right;\n",
              "    }\n",
              "</style>\n",
              "<table border=\"1\" class=\"dataframe\">\n",
              "  <thead>\n",
              "    <tr style=\"text-align: right;\">\n",
              "      <th></th>\n",
              "      <th>MIN_TEMPERATURE_C</th>\n",
              "      <th>WINDSPEED_MAX_KMH</th>\n",
              "      <th>TEMPERATURE_MORNING_C</th>\n",
              "      <th>TEMPERATURE_NOON_C</th>\n",
              "      <th>TEMPERATURE_EVENING_C</th>\n",
              "      <th>PRECIP_TOTAL_DAY_MM</th>\n",
              "      <th>HUMIDITY_MAX_PERCENT</th>\n",
              "      <th>VISIBILITY_AVG_KM</th>\n",
              "      <th>PRESSURE_MAX_MB</th>\n",
              "      <th>CLOUDCOVER_AVG_PERCENT</th>\n",
              "      <th>HEATINDEX_MAX_C</th>\n",
              "      <th>DEWPOINT_MAX_C</th>\n",
              "      <th>WINDTEMP_MAX_C</th>\n",
              "      <th>WEATHER_CODE_MORNING</th>\n",
              "      <th>WEATHER_CODE_NOON</th>\n",
              "      <th>WEATHER_CODE_EVENING</th>\n",
              "      <th>TOTAL_SNOW_MM</th>\n",
              "      <th>UV_INDEX</th>\n",
              "      <th>SUNHOUR</th>\n",
              "    </tr>\n",
              "  </thead>\n",
              "  <tbody>\n",
              "    <tr>\n",
              "      <th>312</th>\n",
              "      <td>5</td>\n",
              "      <td>28</td>\n",
              "      <td>5</td>\n",
              "      <td>9</td>\n",
              "      <td>9</td>\n",
              "      <td>10.1</td>\n",
              "      <td>86</td>\n",
              "      <td>9.375</td>\n",
              "      <td>1014</td>\n",
              "      <td>65.500</td>\n",
              "      <td>10</td>\n",
              "      <td>8</td>\n",
              "      <td>5</td>\n",
              "      <td>116</td>\n",
              "      <td>122</td>\n",
              "      <td>302</td>\n",
              "      <td>0</td>\n",
              "      <td>1</td>\n",
              "      <td>3.5</td>\n",
              "    </tr>\n",
              "    <tr>\n",
              "      <th>300</th>\n",
              "      <td>9</td>\n",
              "      <td>19</td>\n",
              "      <td>10</td>\n",
              "      <td>11</td>\n",
              "      <td>11</td>\n",
              "      <td>1.7</td>\n",
              "      <td>90</td>\n",
              "      <td>6.375</td>\n",
              "      <td>1020</td>\n",
              "      <td>91.625</td>\n",
              "      <td>12</td>\n",
              "      <td>9</td>\n",
              "      <td>7</td>\n",
              "      <td>266</td>\n",
              "      <td>266</td>\n",
              "      <td>119</td>\n",
              "      <td>0</td>\n",
              "      <td>1</td>\n",
              "      <td>3.8</td>\n",
              "    </tr>\n",
              "    <tr>\n",
              "      <th>185</th>\n",
              "      <td>17</td>\n",
              "      <td>20</td>\n",
              "      <td>19</td>\n",
              "      <td>28</td>\n",
              "      <td>30</td>\n",
              "      <td>0.6</td>\n",
              "      <td>67</td>\n",
              "      <td>10.000</td>\n",
              "      <td>1018</td>\n",
              "      <td>18.250</td>\n",
              "      <td>32</td>\n",
              "      <td>19</td>\n",
              "      <td>23</td>\n",
              "      <td>116</td>\n",
              "      <td>116</td>\n",
              "      <td>116</td>\n",
              "      <td>0</td>\n",
              "      <td>1</td>\n",
              "      <td>15.9</td>\n",
              "    </tr>\n",
              "    <tr>\n",
              "      <th>126</th>\n",
              "      <td>6</td>\n",
              "      <td>13</td>\n",
              "      <td>6</td>\n",
              "      <td>14</td>\n",
              "      <td>12</td>\n",
              "      <td>1.2</td>\n",
              "      <td>72</td>\n",
              "      <td>8.000</td>\n",
              "      <td>1021</td>\n",
              "      <td>52.875</td>\n",
              "      <td>14</td>\n",
              "      <td>9</td>\n",
              "      <td>9</td>\n",
              "      <td>116</td>\n",
              "      <td>119</td>\n",
              "      <td>266</td>\n",
              "      <td>0</td>\n",
              "      <td>1</td>\n",
              "      <td>10.3</td>\n",
              "    </tr>\n",
              "    <tr>\n",
              "      <th>220</th>\n",
              "      <td>19</td>\n",
              "      <td>37</td>\n",
              "      <td>20</td>\n",
              "      <td>21</td>\n",
              "      <td>22</td>\n",
              "      <td>5.5</td>\n",
              "      <td>80</td>\n",
              "      <td>9.750</td>\n",
              "      <td>1010</td>\n",
              "      <td>51.500</td>\n",
              "      <td>25</td>\n",
              "      <td>19</td>\n",
              "      <td>21</td>\n",
              "      <td>353</td>\n",
              "      <td>176</td>\n",
              "      <td>116</td>\n",
              "      <td>0</td>\n",
              "      <td>6</td>\n",
              "      <td>11.3</td>\n",
              "    </tr>\n",
              "    <tr>\n",
              "      <th>...</th>\n",
              "      <td>...</td>\n",
              "      <td>...</td>\n",
              "      <td>...</td>\n",
              "      <td>...</td>\n",
              "      <td>...</td>\n",
              "      <td>...</td>\n",
              "      <td>...</td>\n",
              "      <td>...</td>\n",
              "      <td>...</td>\n",
              "      <td>...</td>\n",
              "      <td>...</td>\n",
              "      <td>...</td>\n",
              "      <td>...</td>\n",
              "      <td>...</td>\n",
              "      <td>...</td>\n",
              "      <td>...</td>\n",
              "      <td>...</td>\n",
              "      <td>...</td>\n",
              "      <td>...</td>\n",
              "    </tr>\n",
              "    <tr>\n",
              "      <th>275</th>\n",
              "      <td>9</td>\n",
              "      <td>17</td>\n",
              "      <td>9</td>\n",
              "      <td>17</td>\n",
              "      <td>17</td>\n",
              "      <td>0.3</td>\n",
              "      <td>65</td>\n",
              "      <td>9.375</td>\n",
              "      <td>1021</td>\n",
              "      <td>43.125</td>\n",
              "      <td>19</td>\n",
              "      <td>14</td>\n",
              "      <td>11</td>\n",
              "      <td>116</td>\n",
              "      <td>116</td>\n",
              "      <td>116</td>\n",
              "      <td>0</td>\n",
              "      <td>1</td>\n",
              "      <td>11.4</td>\n",
              "    </tr>\n",
              "    <tr>\n",
              "      <th>246</th>\n",
              "      <td>13</td>\n",
              "      <td>17</td>\n",
              "      <td>13</td>\n",
              "      <td>19</td>\n",
              "      <td>20</td>\n",
              "      <td>0.3</td>\n",
              "      <td>69</td>\n",
              "      <td>10.000</td>\n",
              "      <td>1024</td>\n",
              "      <td>32.500</td>\n",
              "      <td>22</td>\n",
              "      <td>14</td>\n",
              "      <td>17</td>\n",
              "      <td>113</td>\n",
              "      <td>116</td>\n",
              "      <td>176</td>\n",
              "      <td>0</td>\n",
              "      <td>1</td>\n",
              "      <td>7.8</td>\n",
              "    </tr>\n",
              "    <tr>\n",
              "      <th>171</th>\n",
              "      <td>10</td>\n",
              "      <td>13</td>\n",
              "      <td>12</td>\n",
              "      <td>20</td>\n",
              "      <td>19</td>\n",
              "      <td>0.5</td>\n",
              "      <td>70</td>\n",
              "      <td>9.875</td>\n",
              "      <td>1021</td>\n",
              "      <td>47.750</td>\n",
              "      <td>20</td>\n",
              "      <td>12</td>\n",
              "      <td>16</td>\n",
              "      <td>116</td>\n",
              "      <td>116</td>\n",
              "      <td>176</td>\n",
              "      <td>0</td>\n",
              "      <td>1</td>\n",
              "      <td>14.7</td>\n",
              "    </tr>\n",
              "    <tr>\n",
              "      <th>114</th>\n",
              "      <td>7</td>\n",
              "      <td>33</td>\n",
              "      <td>9</td>\n",
              "      <td>13</td>\n",
              "      <td>12</td>\n",
              "      <td>4.4</td>\n",
              "      <td>80</td>\n",
              "      <td>9.375</td>\n",
              "      <td>1007</td>\n",
              "      <td>73.000</td>\n",
              "      <td>13</td>\n",
              "      <td>8</td>\n",
              "      <td>8</td>\n",
              "      <td>353</td>\n",
              "      <td>353</td>\n",
              "      <td>176</td>\n",
              "      <td>0</td>\n",
              "      <td>1</td>\n",
              "      <td>9.3</td>\n",
              "    </tr>\n",
              "    <tr>\n",
              "      <th>157</th>\n",
              "      <td>13</td>\n",
              "      <td>42</td>\n",
              "      <td>14</td>\n",
              "      <td>15</td>\n",
              "      <td>13</td>\n",
              "      <td>27.3</td>\n",
              "      <td>83</td>\n",
              "      <td>8.625</td>\n",
              "      <td>1015</td>\n",
              "      <td>81.125</td>\n",
              "      <td>15</td>\n",
              "      <td>12</td>\n",
              "      <td>12</td>\n",
              "      <td>299</td>\n",
              "      <td>353</td>\n",
              "      <td>356</td>\n",
              "      <td>0</td>\n",
              "      <td>1</td>\n",
              "      <td>9.7</td>\n",
              "    </tr>\n",
              "  </tbody>\n",
              "</table>\n",
              "<p>273 rows × 19 columns</p>\n",
              "</div>\n",
              "      <button class=\"colab-df-convert\" onclick=\"convertToInteractive('df-801f7e63-2a2a-4f20-8f3f-5069f79428e5')\"\n",
              "              title=\"Convert this dataframe to an interactive table.\"\n",
              "              style=\"display:none;\">\n",
              "        \n",
              "  <svg xmlns=\"http://www.w3.org/2000/svg\" height=\"24px\"viewBox=\"0 0 24 24\"\n",
              "       width=\"24px\">\n",
              "    <path d=\"M0 0h24v24H0V0z\" fill=\"none\"/>\n",
              "    <path d=\"M18.56 5.44l.94 2.06.94-2.06 2.06-.94-2.06-.94-.94-2.06-.94 2.06-2.06.94zm-11 1L8.5 8.5l.94-2.06 2.06-.94-2.06-.94L8.5 2.5l-.94 2.06-2.06.94zm10 10l.94 2.06.94-2.06 2.06-.94-2.06-.94-.94-2.06-.94 2.06-2.06.94z\"/><path d=\"M17.41 7.96l-1.37-1.37c-.4-.4-.92-.59-1.43-.59-.52 0-1.04.2-1.43.59L10.3 9.45l-7.72 7.72c-.78.78-.78 2.05 0 2.83L4 21.41c.39.39.9.59 1.41.59.51 0 1.02-.2 1.41-.59l7.78-7.78 2.81-2.81c.8-.78.8-2.07 0-2.86zM5.41 20L4 18.59l7.72-7.72 1.47 1.35L5.41 20z\"/>\n",
              "  </svg>\n",
              "      </button>\n",
              "      \n",
              "  <style>\n",
              "    .colab-df-container {\n",
              "      display:flex;\n",
              "      flex-wrap:wrap;\n",
              "      gap: 12px;\n",
              "    }\n",
              "\n",
              "    .colab-df-convert {\n",
              "      background-color: #E8F0FE;\n",
              "      border: none;\n",
              "      border-radius: 50%;\n",
              "      cursor: pointer;\n",
              "      display: none;\n",
              "      fill: #1967D2;\n",
              "      height: 32px;\n",
              "      padding: 0 0 0 0;\n",
              "      width: 32px;\n",
              "    }\n",
              "\n",
              "    .colab-df-convert:hover {\n",
              "      background-color: #E2EBFA;\n",
              "      box-shadow: 0px 1px 2px rgba(60, 64, 67, 0.3), 0px 1px 3px 1px rgba(60, 64, 67, 0.15);\n",
              "      fill: #174EA6;\n",
              "    }\n",
              "\n",
              "    [theme=dark] .colab-df-convert {\n",
              "      background-color: #3B4455;\n",
              "      fill: #D2E3FC;\n",
              "    }\n",
              "\n",
              "    [theme=dark] .colab-df-convert:hover {\n",
              "      background-color: #434B5C;\n",
              "      box-shadow: 0px 1px 3px 1px rgba(0, 0, 0, 0.15);\n",
              "      filter: drop-shadow(0px 1px 2px rgba(0, 0, 0, 0.3));\n",
              "      fill: #FFFFFF;\n",
              "    }\n",
              "  </style>\n",
              "\n",
              "      <script>\n",
              "        const buttonEl =\n",
              "          document.querySelector('#df-801f7e63-2a2a-4f20-8f3f-5069f79428e5 button.colab-df-convert');\n",
              "        buttonEl.style.display =\n",
              "          google.colab.kernel.accessAllowed ? 'block' : 'none';\n",
              "\n",
              "        async function convertToInteractive(key) {\n",
              "          const element = document.querySelector('#df-801f7e63-2a2a-4f20-8f3f-5069f79428e5');\n",
              "          const dataTable =\n",
              "            await google.colab.kernel.invokeFunction('convertToInteractive',\n",
              "                                                     [key], {});\n",
              "          if (!dataTable) return;\n",
              "\n",
              "          const docLinkHtml = 'Like what you see? Visit the ' +\n",
              "            '<a target=\"_blank\" href=https://colab.research.google.com/notebooks/data_table.ipynb>data table notebook</a>'\n",
              "            + ' to learn more about interactive tables.';\n",
              "          element.innerHTML = '';\n",
              "          dataTable['output_type'] = 'display_data';\n",
              "          await google.colab.output.renderOutput(dataTable, element);\n",
              "          const docLink = document.createElement('div');\n",
              "          docLink.innerHTML = docLinkHtml;\n",
              "          element.appendChild(docLink);\n",
              "        }\n",
              "      </script>\n",
              "    </div>\n",
              "  </div>\n",
              "  "
            ]
          },
          "metadata": {},
          "execution_count": 39
        }
      ]
    },
    {
      "cell_type": "code",
      "source": [
        "modelLR = LinearRegression()\n",
        "modelLR.fit(X_train, y_train)\n",
        "modelLR.score(X_train, y_train)"
      ],
      "metadata": {
        "colab": {
          "base_uri": "https://localhost:8080/"
        },
        "id": "OIkIX1mPUMJJ",
        "outputId": "9daa94aa-2f33-4618-a00d-6380a2d5203f"
      },
      "execution_count": 40,
      "outputs": [
        {
          "output_type": "execute_result",
          "data": {
            "text/plain": [
              "0.9940778889475473"
            ]
          },
          "metadata": {},
          "execution_count": 40
        }
      ]
    },
    {
      "cell_type": "code",
      "source": [
        "modelLR.score(X_test, y_test)"
      ],
      "metadata": {
        "colab": {
          "base_uri": "https://localhost:8080/"
        },
        "id": "BKeKEPd9WMJl",
        "outputId": "a2948974-eb81-4b61-f778-9d7668dea79d"
      },
      "execution_count": 41,
      "outputs": [
        {
          "output_type": "execute_result",
          "data": {
            "text/plain": [
              "0.9932884352279842"
            ]
          },
          "metadata": {},
          "execution_count": 41
        }
      ]
    },
    {
      "cell_type": "code",
      "source": [
        "X = df_weather[['MIN_TEMPERATURE_C']]\n",
        "y = df_weather[\"MAX_TEMPERATURE_C\"]"
      ],
      "metadata": {
        "id": "BpPSLoH7WnPk"
      },
      "execution_count": 42,
      "outputs": []
    },
    {
      "cell_type": "code",
      "source": [
        "X_train, X_test, y_train, y_test = train_test_split(X, y, train_size= 0.75, shuffle = True)"
      ],
      "metadata": {
        "id": "c73XS19lWs04"
      },
      "execution_count": 43,
      "outputs": []
    },
    {
      "cell_type": "code",
      "source": [
        "modelLR = LinearRegression()\n",
        "modelLR.fit(X_train, y_train)\n",
        "modelLR.score(X_train, y_train)"
      ],
      "metadata": {
        "colab": {
          "base_uri": "https://localhost:8080/"
        },
        "id": "51-A5MAlWui-",
        "outputId": "7133fa00-c7ac-4dd0-9558-6945d6dd3ce8"
      },
      "execution_count": 44,
      "outputs": [
        {
          "output_type": "execute_result",
          "data": {
            "text/plain": [
              "0.7828802277026512"
            ]
          },
          "metadata": {},
          "execution_count": 44
        }
      ]
    },
    {
      "cell_type": "code",
      "source": [
        "modelLR.score(X_test, y_test)"
      ],
      "metadata": {
        "colab": {
          "base_uri": "https://localhost:8080/"
        },
        "id": "1cRp4cpOWwLn",
        "outputId": "1a207e0f-c5d2-4fae-ae49-cff3b143d331"
      },
      "execution_count": 45,
      "outputs": [
        {
          "output_type": "execute_result",
          "data": {
            "text/plain": [
              "0.715946918136383"
            ]
          },
          "metadata": {},
          "execution_count": 45
        }
      ]
    },
    {
      "cell_type": "code",
      "source": [
        "modelLR.score(X_test, y_test)"
      ],
      "metadata": {
        "colab": {
          "base_uri": "https://localhost:8080/"
        },
        "id": "lDIsRTW_YWEI",
        "outputId": "c95abe4e-b2da-4c89-b144-8bd01206c074"
      },
      "execution_count": 46,
      "outputs": [
        {
          "output_type": "execute_result",
          "data": {
            "text/plain": [
              "0.715946918136383"
            ]
          },
          "metadata": {},
          "execution_count": 46
        }
      ]
    },
    {
      "cell_type": "code",
      "source": [
        "modelLR.predict(X_test)"
      ],
      "metadata": {
        "colab": {
          "base_uri": "https://localhost:8080/"
        },
        "id": "sl1DFeS_Xrvl",
        "outputId": "7a56574a-87f9-49e2-a6ae-a77d9ae50556"
      },
      "execution_count": 47,
      "outputs": [
        {
          "output_type": "execute_result",
          "data": {
            "text/plain": [
              "array([15.41028483, 11.77978569, 15.41028483, 22.67128309, 12.98995207,\n",
              "       16.6204512 , 21.46111671, 25.09161585, 11.77978569, 11.77978569,\n",
              "        8.14928656, 10.56961931, 21.46111671, 23.88144947, 17.83061758,\n",
              "       11.77978569, 11.77978569, 20.25095034,  8.14928656,  9.35945294,\n",
              "       10.56961931, 14.20011845, 12.98995207, 22.67128309, 11.77978569,\n",
              "       19.04078396, 21.46111671, 11.77978569, 21.46111671, 12.98995207,\n",
              "       19.04078396, 23.88144947, 16.6204512 , 20.25095034, 15.41028483,\n",
              "       23.88144947, 21.46111671, 12.98995207, 19.04078396, 12.98995207,\n",
              "       22.67128309, 11.77978569, 19.04078396, 12.98995207, 26.30178223,\n",
              "       12.98995207, 21.46111671,  8.14928656, 15.41028483,  8.14928656,\n",
              "       14.20011845, 15.41028483, 26.30178223, 19.04078396, 19.04078396,\n",
              "       23.88144947, 15.41028483, 21.46111671, 20.25095034, 17.83061758,\n",
              "       23.88144947, 11.77978569, 19.04078396, 23.88144947, 16.6204512 ,\n",
              "       14.20011845, 16.6204512 , 12.98995207, 14.20011845, 10.56961931,\n",
              "       21.46111671,  9.35945294, 14.20011845, 12.98995207, 17.83061758,\n",
              "       14.20011845, 14.20011845, 10.56961931, 21.46111671, 21.46111671,\n",
              "        9.35945294, 14.20011845, 19.04078396, 25.09161585, 19.04078396,\n",
              "       14.20011845, 21.46111671, 12.98995207, 15.41028483, 22.67128309,\n",
              "        8.14928656, 14.20011845])"
            ]
          },
          "metadata": {},
          "execution_count": 47
        }
      ]
    },
    {
      "cell_type": "code",
      "source": [
        "from sklearn.metrics import r2_score"
      ],
      "metadata": {
        "id": "EWsr1W0JYGuS"
      },
      "execution_count": 48,
      "outputs": []
    },
    {
      "cell_type": "code",
      "source": [
        "r2_score(y_test, modelLR.predict(X_test))"
      ],
      "metadata": {
        "colab": {
          "base_uri": "https://localhost:8080/"
        },
        "id": "hRfjfiBdYKT_",
        "outputId": "2ee5880f-0aa9-4fe9-bcf7-5d4567578f47"
      },
      "execution_count": 49,
      "outputs": [
        {
          "output_type": "execute_result",
          "data": {
            "text/plain": [
              "0.715946918136383"
            ]
          },
          "metadata": {},
          "execution_count": 49
        }
      ]
    },
    {
      "cell_type": "markdown",
      "metadata": {
        "id": "n2SrdlnSTLHb"
      },
      "source": [
        "### Let's visualize\n",
        "With Plotly express, show a 3D scatterplot with :\n",
        "\n",
        "- X-axis : your new 'predict' column\n",
        "- Y-axis : MIN temperature\n",
        "- Z-axis : Sunhours\n",
        "\n"
      ]
    },
    {
      "cell_type": "code",
      "source": [
        "from sklearn.metrics import mean_squared_error\n",
        "from sklearn.metrics import mean_absolute_error"
      ],
      "metadata": {
        "id": "KcjXt1PFZDLl"
      },
      "execution_count": 50,
      "outputs": []
    },
    {
      "cell_type": "code",
      "source": [
        "mean_squared_error(y_test, modelLR.predict(X_test), squared = False)"
      ],
      "metadata": {
        "colab": {
          "base_uri": "https://localhost:8080/"
        },
        "id": "Eug7nTXmZFRb",
        "outputId": "dbc927e1-3675-4d89-e890-667c83ace6a2"
      },
      "execution_count": 51,
      "outputs": [
        {
          "output_type": "execute_result",
          "data": {
            "text/plain": [
              "3.2715596698432376"
            ]
          },
          "metadata": {},
          "execution_count": 51
        }
      ]
    },
    {
      "cell_type": "code",
      "source": [
        "mean_absolute_error(y_test, modelLR.predict(X_test))"
      ],
      "metadata": {
        "colab": {
          "base_uri": "https://localhost:8080/"
        },
        "id": "5mofZLZFZ4bf",
        "outputId": "aefbb444-dbf5-4895-a24b-b0db71add71f"
      },
      "execution_count": 52,
      "outputs": [
        {
          "output_type": "execute_result",
          "data": {
            "text/plain": [
              "2.671892950382023"
            ]
          },
          "metadata": {},
          "execution_count": 52
        }
      ]
    },
    {
      "cell_type": "code",
      "metadata": {
        "id": "8hZ11UMDTnwm"
      },
      "source": [
        "# Your code here :\n"
      ],
      "execution_count": 53,
      "outputs": []
    },
    {
      "cell_type": "code",
      "source": [
        "X = df_weather[['MIN_TEMPERATURE_C', 'SUNHOUR']]\n",
        "y = df_weather[\"MAX_TEMPERATURE_C\"]\n",
        "\n",
        "X_train, X_test, y_train, y_test = train_test_split(X, y, train_size= 0.75, random_state= 67)\n",
        "\n",
        "modelLR = LinearRegression()\n",
        "modelLR.fit(X_train, y_train)\n",
        "print(\"train score :\",modelLR.score(X_train, y_train))\n",
        "print(\"test score :\",modelLR.score(X_test, y_test))\n",
        "\n",
        "print(\"MAE:\", mean_absolute_error(y_test, modelLR.predict(X_test)))\n",
        "print(\"RMSE:\", mean_squared_error(y_test, modelLR.predict(X_test), squared = False))"
      ],
      "metadata": {
        "colab": {
          "base_uri": "https://localhost:8080/"
        },
        "id": "t90FG0uQaeRX",
        "outputId": "1707adda-b2d7-4c33-d917-deef67b3841f"
      },
      "execution_count": 54,
      "outputs": [
        {
          "output_type": "stream",
          "name": "stdout",
          "text": [
            "train score : 0.8679669198013802\n",
            "test score : 0.8647768167711734\n",
            "MAE: 1.9305372087106982\n",
            "RMSE: 2.4752803714173486\n"
          ]
        }
      ]
    },
    {
      "cell_type": "code",
      "source": [
        "X = df_weather[['MIN_TEMPERATURE_C']]\n",
        "y = df_weather[\"MAX_TEMPERATURE_C\"]\n",
        "\n",
        "X_train, X_test, y_train, y_test = train_test_split(X, y, train_size= 0.75, random_state= 67)\n",
        "\n",
        "modelLR = LinearRegression()\n",
        "modelLR.fit(X_train, y_train)\n",
        "print(\"train score :\",modelLR.score(X_train, y_train))\n",
        "print(\"test score :\",modelLR.score(X_test, y_test))\n",
        "\n",
        "print(\"MAE:\", mean_absolute_error(y_test, modelLR.predict(X_test)))\n",
        "print(\"RMSE:\", mean_squared_error(y_test, modelLR.predict(X_test), squared = False))"
      ],
      "metadata": {
        "id": "xQGBNgjQa_SA",
        "outputId": "e7c9f923-ce55-4796-a60f-c0a31ffb0809",
        "colab": {
          "base_uri": "https://localhost:8080/"
        }
      },
      "execution_count": 55,
      "outputs": [
        {
          "output_type": "stream",
          "name": "stdout",
          "text": [
            "train score : 0.772477779983619\n",
            "test score : 0.7558001364363359\n",
            "MAE: 2.6300290632845376\n",
            "RMSE: 3.3263774573995937\n"
          ]
        }
      ]
    },
    {
      "cell_type": "markdown",
      "metadata": {
        "id": "jWNHvPp4KgNz"
      },
      "source": [
        "**Move the cube with your mouse. Hey your 3D-scatterplot has a special shape : it's a plan !**"
      ]
    },
    {
      "cell_type": "markdown",
      "metadata": {
        "id": "Cf9fBmBxTy_O"
      },
      "source": [
        "## Multivariate linear regressions with N-variables\n",
        "Make a prediction with the maximum number of variables. But beware : \n",
        "- variables must be numeric\n",
        "- your target (MAX temperature) should not be present in variables\n",
        "\n",
        "Store your prediction in a new column 'predict2'.\n",
        "\n",
        "In our 3D human vision, we can't represent a hyperplan. But, let's trust in our computer, it can calculate. So trust it and show a simple scatterplot with :\n",
        "- X-axis : Date\n",
        "- Y-axis : MAX temperatures in blue dots and 'predict2' in orange dots\n",
        "\n",
        "Expected result:\n",
        "\n",
        "![Capture d’écran 2020-11-03 à 13.58.13.png](data:image/png;base64,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)"
      ]
    },
    {
      "cell_type": "code",
      "metadata": {
        "id": "VMUfy2EqW8sN"
      },
      "source": [
        "# Your code here :\n",
        "\n"
      ],
      "execution_count": null,
      "outputs": []
    },
    {
      "cell_type": "markdown",
      "metadata": {
        "id": "Yc_UEZKzMC2x"
      },
      "source": [
        "You can read coefficient for each column with the attribute `.coef_`. Which column has the biggest coefficient ?"
      ]
    },
    {
      "cell_type": "code",
      "metadata": {
        "id": "OildVrlQMNUK"
      },
      "source": [
        "# Your code here :\n"
      ],
      "execution_count": null,
      "outputs": []
    }
  ]
}