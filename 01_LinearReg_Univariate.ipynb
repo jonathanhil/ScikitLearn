{
  "nbformat": 4,
  "nbformat_minor": 0,
  "metadata": {
    "colab": {
      "provenance": []
    },
    "kernelspec": {
      "name": "python3",
      "display_name": "Python 3"
    }
  },
  "cells": [
    {
      "cell_type": "markdown",
      "metadata": {
        "id": "7RZbCjBZBNKL"
      },
      "source": [
        "# Execute the code below"
      ]
    },
    {
      "cell_type": "code",
      "metadata": {
        "id": "ih5VsCSsAGWK",
        "colab": {
          "base_uri": "https://localhost:8080/",
          "height": 424
        },
        "outputId": "98849a47-5aeb-4cce-824d-6506edb923e8"
      },
      "source": [
        "import matplotlib.pyplot as plt\n",
        "import pandas as pd\n",
        "import numpy as np\n",
        "import seaborn as sns\n",
        "link = \"https://raw.githubusercontent.com/murpi/wilddata/master/quests/weather2019.csv\"\n",
        "df_weather = pd.read_csv(link)\n",
        "df_weather = df_weather.iloc[:,[0,1,2, -4]]\n",
        "df_weather"
      ],
      "execution_count": null,
      "outputs": [
        {
          "output_type": "execute_result",
          "data": {
            "text/plain": [
              "           DATE  MAX_TEMPERATURE_C  MIN_TEMPERATURE_C  SUNHOUR\n",
              "0    2019-01-01                  9                  4      5.1\n",
              "1    2019-01-02                  8                  5      8.7\n",
              "2    2019-01-03                  6                  0      8.7\n",
              "3    2019-01-04                  5                 -1      5.1\n",
              "4    2019-01-05                  6                 -1      8.7\n",
              "..          ...                ...                ...      ...\n",
              "360  2019-12-27                 13                 10      8.7\n",
              "361  2019-12-28                 11                  5      6.9\n",
              "362  2019-12-29                  9                  2      8.7\n",
              "363  2019-12-30                 12                  4      8.7\n",
              "364  2019-12-31                 10                  4      8.7\n",
              "\n",
              "[365 rows x 4 columns]"
            ],
            "text/html": [
              "\n",
              "  <div id=\"df-81e4256b-e52c-42cf-b832-6afb802b4aa2\">\n",
              "    <div class=\"colab-df-container\">\n",
              "      <div>\n",
              "<style scoped>\n",
              "    .dataframe tbody tr th:only-of-type {\n",
              "        vertical-align: middle;\n",
              "    }\n",
              "\n",
              "    .dataframe tbody tr th {\n",
              "        vertical-align: top;\n",
              "    }\n",
              "\n",
              "    .dataframe thead th {\n",
              "        text-align: right;\n",
              "    }\n",
              "</style>\n",
              "<table border=\"1\" class=\"dataframe\">\n",
              "  <thead>\n",
              "    <tr style=\"text-align: right;\">\n",
              "      <th></th>\n",
              "      <th>DATE</th>\n",
              "      <th>MAX_TEMPERATURE_C</th>\n",
              "      <th>MIN_TEMPERATURE_C</th>\n",
              "      <th>SUNHOUR</th>\n",
              "    </tr>\n",
              "  </thead>\n",
              "  <tbody>\n",
              "    <tr>\n",
              "      <th>0</th>\n",
              "      <td>2019-01-01</td>\n",
              "      <td>9</td>\n",
              "      <td>4</td>\n",
              "      <td>5.1</td>\n",
              "    </tr>\n",
              "    <tr>\n",
              "      <th>1</th>\n",
              "      <td>2019-01-02</td>\n",
              "      <td>8</td>\n",
              "      <td>5</td>\n",
              "      <td>8.7</td>\n",
              "    </tr>\n",
              "    <tr>\n",
              "      <th>2</th>\n",
              "      <td>2019-01-03</td>\n",
              "      <td>6</td>\n",
              "      <td>0</td>\n",
              "      <td>8.7</td>\n",
              "    </tr>\n",
              "    <tr>\n",
              "      <th>3</th>\n",
              "      <td>2019-01-04</td>\n",
              "      <td>5</td>\n",
              "      <td>-1</td>\n",
              "      <td>5.1</td>\n",
              "    </tr>\n",
              "    <tr>\n",
              "      <th>4</th>\n",
              "      <td>2019-01-05</td>\n",
              "      <td>6</td>\n",
              "      <td>-1</td>\n",
              "      <td>8.7</td>\n",
              "    </tr>\n",
              "    <tr>\n",
              "      <th>...</th>\n",
              "      <td>...</td>\n",
              "      <td>...</td>\n",
              "      <td>...</td>\n",
              "      <td>...</td>\n",
              "    </tr>\n",
              "    <tr>\n",
              "      <th>360</th>\n",
              "      <td>2019-12-27</td>\n",
              "      <td>13</td>\n",
              "      <td>10</td>\n",
              "      <td>8.7</td>\n",
              "    </tr>\n",
              "    <tr>\n",
              "      <th>361</th>\n",
              "      <td>2019-12-28</td>\n",
              "      <td>11</td>\n",
              "      <td>5</td>\n",
              "      <td>6.9</td>\n",
              "    </tr>\n",
              "    <tr>\n",
              "      <th>362</th>\n",
              "      <td>2019-12-29</td>\n",
              "      <td>9</td>\n",
              "      <td>2</td>\n",
              "      <td>8.7</td>\n",
              "    </tr>\n",
              "    <tr>\n",
              "      <th>363</th>\n",
              "      <td>2019-12-30</td>\n",
              "      <td>12</td>\n",
              "      <td>4</td>\n",
              "      <td>8.7</td>\n",
              "    </tr>\n",
              "    <tr>\n",
              "      <th>364</th>\n",
              "      <td>2019-12-31</td>\n",
              "      <td>10</td>\n",
              "      <td>4</td>\n",
              "      <td>8.7</td>\n",
              "    </tr>\n",
              "  </tbody>\n",
              "</table>\n",
              "<p>365 rows × 4 columns</p>\n",
              "</div>\n",
              "      <button class=\"colab-df-convert\" onclick=\"convertToInteractive('df-81e4256b-e52c-42cf-b832-6afb802b4aa2')\"\n",
              "              title=\"Convert this dataframe to an interactive table.\"\n",
              "              style=\"display:none;\">\n",
              "        \n",
              "  <svg xmlns=\"http://www.w3.org/2000/svg\" height=\"24px\"viewBox=\"0 0 24 24\"\n",
              "       width=\"24px\">\n",
              "    <path d=\"M0 0h24v24H0V0z\" fill=\"none\"/>\n",
              "    <path d=\"M18.56 5.44l.94 2.06.94-2.06 2.06-.94-2.06-.94-.94-2.06-.94 2.06-2.06.94zm-11 1L8.5 8.5l.94-2.06 2.06-.94-2.06-.94L8.5 2.5l-.94 2.06-2.06.94zm10 10l.94 2.06.94-2.06 2.06-.94-2.06-.94-.94-2.06-.94 2.06-2.06.94z\"/><path d=\"M17.41 7.96l-1.37-1.37c-.4-.4-.92-.59-1.43-.59-.52 0-1.04.2-1.43.59L10.3 9.45l-7.72 7.72c-.78.78-.78 2.05 0 2.83L4 21.41c.39.39.9.59 1.41.59.51 0 1.02-.2 1.41-.59l7.78-7.78 2.81-2.81c.8-.78.8-2.07 0-2.86zM5.41 20L4 18.59l7.72-7.72 1.47 1.35L5.41 20z\"/>\n",
              "  </svg>\n",
              "      </button>\n",
              "      \n",
              "  <style>\n",
              "    .colab-df-container {\n",
              "      display:flex;\n",
              "      flex-wrap:wrap;\n",
              "      gap: 12px;\n",
              "    }\n",
              "\n",
              "    .colab-df-convert {\n",
              "      background-color: #E8F0FE;\n",
              "      border: none;\n",
              "      border-radius: 50%;\n",
              "      cursor: pointer;\n",
              "      display: none;\n",
              "      fill: #1967D2;\n",
              "      height: 32px;\n",
              "      padding: 0 0 0 0;\n",
              "      width: 32px;\n",
              "    }\n",
              "\n",
              "    .colab-df-convert:hover {\n",
              "      background-color: #E2EBFA;\n",
              "      box-shadow: 0px 1px 2px rgba(60, 64, 67, 0.3), 0px 1px 3px 1px rgba(60, 64, 67, 0.15);\n",
              "      fill: #174EA6;\n",
              "    }\n",
              "\n",
              "    [theme=dark] .colab-df-convert {\n",
              "      background-color: #3B4455;\n",
              "      fill: #D2E3FC;\n",
              "    }\n",
              "\n",
              "    [theme=dark] .colab-df-convert:hover {\n",
              "      background-color: #434B5C;\n",
              "      box-shadow: 0px 1px 3px 1px rgba(0, 0, 0, 0.15);\n",
              "      filter: drop-shadow(0px 1px 2px rgba(0, 0, 0, 0.3));\n",
              "      fill: #FFFFFF;\n",
              "    }\n",
              "  </style>\n",
              "\n",
              "      <script>\n",
              "        const buttonEl =\n",
              "          document.querySelector('#df-81e4256b-e52c-42cf-b832-6afb802b4aa2 button.colab-df-convert');\n",
              "        buttonEl.style.display =\n",
              "          google.colab.kernel.accessAllowed ? 'block' : 'none';\n",
              "\n",
              "        async function convertToInteractive(key) {\n",
              "          const element = document.querySelector('#df-81e4256b-e52c-42cf-b832-6afb802b4aa2');\n",
              "          const dataTable =\n",
              "            await google.colab.kernel.invokeFunction('convertToInteractive',\n",
              "                                                     [key], {});\n",
              "          if (!dataTable) return;\n",
              "\n",
              "          const docLinkHtml = 'Like what you see? Visit the ' +\n",
              "            '<a target=\"_blank\" href=https://colab.research.google.com/notebooks/data_table.ipynb>data table notebook</a>'\n",
              "            + ' to learn more about interactive tables.';\n",
              "          element.innerHTML = '';\n",
              "          dataTable['output_type'] = 'display_data';\n",
              "          await google.colab.output.renderOutput(dataTable, element);\n",
              "          const docLink = document.createElement('div');\n",
              "          docLink.innerHTML = docLinkHtml;\n",
              "          element.appendChild(docLink);\n",
              "        }\n",
              "      </script>\n",
              "    </div>\n",
              "  </div>\n",
              "  "
            ]
          },
          "metadata": {},
          "execution_count": 2
        }
      ]
    },
    {
      "cell_type": "markdown",
      "metadata": {
        "id": "HDfmi_gNBRd3"
      },
      "source": [
        "# Univariate linear regression with Scikit-Learn"
      ]
    },
    {
      "cell_type": "markdown",
      "metadata": {
        "id": "QhC4gFT2BVh1"
      },
      "source": [
        "Scikit-Learn is the greatest Machine Learning library for Python. Do you remember that you can do Linear regression with NumPy ? You can do the same with Scikit-Learn. And many other things!\n",
        "Let's start with univariate Linear regression, to learn the syntax."
      ]
    },
    {
      "cell_type": "markdown",
      "metadata": {
        "id": "sqL95QpaCTtI"
      },
      "source": [
        "## Print a regplot with seaborn to show a linear regression between Sunhours (on the X-axis) and MAX temperature (on the Y-axis)."
      ]
    },
    {
      "cell_type": "code",
      "metadata": {
        "id": "rGg7wuwaBUGl",
        "colab": {
          "base_uri": "https://localhost:8080/",
          "height": 334
        },
        "outputId": "9d852c4d-8cf2-4cbc-b4a0-5e11c3c5acd5"
      },
      "source": [
        "# Your code here :\n",
        "\n",
        "sns.regplot('SUNHOUR', 'MAX_TEMPERATURE_C', data = df_weather, line_kws={'color':'red'})\n",
        "plt.show()"
      ],
      "execution_count": null,
      "outputs": [
        {
          "output_type": "stream",
          "name": "stderr",
          "text": [
            "/usr/local/lib/python3.8/dist-packages/seaborn/_decorators.py:36: FutureWarning: Pass the following variables as keyword args: x, y. From version 0.12, the only valid positional argument will be `data`, and passing other arguments without an explicit keyword will result in an error or misinterpretation.\n",
            "  warnings.warn(\n"
          ]
        },
        {
          "output_type": "display_data",
          "data": {
            "text/plain": [
              "<Figure size 432x288 with 1 Axes>"
            ],
            "image/png": "[encoded data removed]"
          },
          "metadata": {
            "needs_background": "light"
          }
        }
      ]
    },
    {
      "cell_type": "markdown",
      "metadata": {
        "id": "7Qnmc8HJEgSh"
      },
      "source": [
        "## Train the model\n",
        "You just have to read and execute the code below"
      ]
    },
    {
      "cell_type": "code",
      "metadata": {
        "id": "txQAv7N7C-rv"
      },
      "source": [
        "# Scikit-Learn can find the coefficients of the linear regression\n",
        "from sklearn.linear_model import LinearRegression\n",
        "\n",
        "# First of all, you have to define 2 series :\n",
        "# X-axis : the correlated column, here it is Sunhours\n",
        "X = df_weather[['SUNHOUR']] \n",
        "\n",
        "# Y-axis : the column to predict, so MAX Temperature here\n",
        "y = df_weather['MAX_TEMPERATURE_C'] \n",
        "\n",
        "# Hey, why is \"X\" in uppercase and \"y\" in lowercase ? That's a good point, we'll see that in the next quest. Now, you just have to use this.\n",
        "\n",
        "# To train a machine learning model (here, it will find the equation of the linear regression), you just have launch the \".fit\" method.\n",
        "modelLR = LinearRegression().fit(X, y)"
      ],
      "execution_count": null,
      "outputs": []
    },
    {
      "cell_type": "markdown",
      "metadata": {
        "id": "yGHuorx4EiWD"
      },
      "source": [
        "## Explore the model"
      ]
    },
    {
      "cell_type": "code",
      "metadata": {
        "id": "dIWLEntIDjp4",
        "colab": {
          "base_uri": "https://localhost:8080/"
        },
        "outputId": "c922d682-fa61-42c5-e039-3f545101794c"
      },
      "source": [
        "# Your model is trained, it has now some attributes.\n",
        "# Coefficient, it's the \"a\" in your equation \"aX + b\"\n",
        "print(\"coefficient :\",modelLR.coef_)\n",
        "\n",
        "# Interception, it's the \"b\" in your equation \"aX + b\"\n",
        "print(\"intercept :\", modelLR.intercept_)\n"
      ],
      "execution_count": null,
      "outputs": [
        {
          "output_type": "stream",
          "name": "stdout",
          "text": [
            "coefficient : [1.28422116]\n",
            "intercept : 4.8472953557195435\n"
          ]
        }
      ]
    },
    {
      "cell_type": "markdown",
      "metadata": {
        "id": "EY3uNopEGtOQ"
      },
      "source": [
        "## Prediction for 1 value"
      ]
    },
    {
      "cell_type": "code",
      "metadata": {
        "id": "gzNPxyTNFKAb",
        "colab": {
          "base_uri": "https://localhost:8080/"
        },
        "outputId": "22cedf12-62a9-4ed8-9e3e-d0394b45176e"
      },
      "source": [
        "# You can \"predict\" the Max Temperature from the Sunhours\n",
        "# For example, let's try if Sunhours is 10 :\n",
        "\n",
        "# Hand calculation :\n",
        "print(\"By hand :\", modelLR.coef_ * 10 + modelLR.intercept_ )\n",
        "\n",
        "# With a Scikit-Learn function :\n",
        "print(\"Scikit-Learn :  \", modelLR.predict([[10]])  )"
      ],
      "execution_count": null,
      "outputs": [
        {
          "output_type": "stream",
          "name": "stdout",
          "text": [
            "By hand : [17.68950691]\n",
            "Scikit-Learn :   [17.68950691]\n"
          ]
        },
        {
          "output_type": "stream",
          "name": "stderr",
          "text": [
            "/usr/local/lib/python3.8/dist-packages/sklearn/base.py:450: UserWarning: X does not have valid feature names, but LinearRegression was fitted with feature names\n",
            "  warnings.warn(\n"
          ]
        }
      ]
    },
    {
      "cell_type": "markdown",
      "metadata": {
        "id": "bXvhV9DPH9iH"
      },
      "source": [
        "## Predictions for multiple values (a Serie)\n",
        "Let's predict MAX temperature for the Sunhour column of your DataFrame.\n",
        "\n",
        "Note : You'll have to precise your column with double \"[\", like that  : df[['your_column]] \n",
        "\n",
        "*Why ? We'll see that in the next quest.*"
      ]
    },
    {
      "cell_type": "code",
      "metadata": {
        "id": "4J79U7rcHwpz",
        "colab": {
          "base_uri": "https://localhost:8080/",
          "height": 424
        },
        "outputId": "48dc7c09-7e13-40dc-cf02-c6bdd80eb5cf"
      },
      "source": [
        "# Find a way to store the result of the prediction in a new column 'predict\" of the dataframe\n",
        "df_weather['predict'] = modelLR.predict(df_weather[['SUNHOUR']])\n",
        "df_weather"
      ],
      "execution_count": null,
      "outputs": [
        {
          "output_type": "execute_result",
          "data": {
            "text/plain": [
              "           DATE  MAX_TEMPERATURE_C  MIN_TEMPERATURE_C  SUNHOUR    predict\n",
              "0    2019-01-01                  9                  4      5.1  11.396823\n",
              "1    2019-01-02                  8                  5      8.7  16.020019\n",
              "2    2019-01-03                  6                  0      8.7  16.020019\n",
              "3    2019-01-04                  5                 -1      5.1  11.396823\n",
              "4    2019-01-05                  6                 -1      8.7  16.020019\n",
              "..          ...                ...                ...      ...        ...\n",
              "360  2019-12-27                 13                 10      8.7  16.020019\n",
              "361  2019-12-28                 11                  5      6.9  13.708421\n",
              "362  2019-12-29                  9                  2      8.7  16.020019\n",
              "363  2019-12-30                 12                  4      8.7  16.020019\n",
              "364  2019-12-31                 10                  4      8.7  16.020019\n",
              "\n",
              "[365 rows x 5 columns]"
            ],
            "text/html": [
              "\n",
              "  <div id=\"df-79eb3f61-c621-4219-8f81-f785823daaee\">\n",
              "    <div class=\"colab-df-container\">\n",
              "      <div>\n",
              "<style scoped>\n",
              "    .dataframe tbody tr th:only-of-type {\n",
              "        vertical-align: middle;\n",
              "    }\n",
              "\n",
              "    .dataframe tbody tr th {\n",
              "        vertical-align: top;\n",
              "    }\n",
              "\n",
              "    .dataframe thead th {\n",
              "        text-align: right;\n",
              "    }\n",
              "</style>\n",
              "<table border=\"1\" class=\"dataframe\">\n",
              "  <thead>\n",
              "    <tr style=\"text-align: right;\">\n",
              "      <th></th>\n",
              "      <th>DATE</th>\n",
              "      <th>MAX_TEMPERATURE_C</th>\n",
              "      <th>MIN_TEMPERATURE_C</th>\n",
              "      <th>SUNHOUR</th>\n",
              "      <th>predict</th>\n",
              "    </tr>\n",
              "  </thead>\n",
              "  <tbody>\n",
              "    <tr>\n",
              "      <th>0</th>\n",
              "      <td>2019-01-01</td>\n",
              "      <td>9</td>\n",
              "      <td>4</td>\n",
              "      <td>5.1</td>\n",
              "      <td>11.396823</td>\n",
              "    </tr>\n",
              "    <tr>\n",
              "      <th>1</th>\n",
              "      <td>2019-01-02</td>\n",
              "      <td>8</td>\n",
              "      <td>5</td>\n",
              "      <td>8.7</td>\n",
              "      <td>16.020019</td>\n",
              "    </tr>\n",
              "    <tr>\n",
              "      <th>2</th>\n",
              "      <td>2019-01-03</td>\n",
              "      <td>6</td>\n",
              "      <td>0</td>\n",
              "      <td>8.7</td>\n",
              "      <td>16.020019</td>\n",
              "    </tr>\n",
              "    <tr>\n",
              "      <th>3</th>\n",
              "      <td>2019-01-04</td>\n",
              "      <td>5</td>\n",
              "      <td>-1</td>\n",
              "      <td>5.1</td>\n",
              "      <td>11.396823</td>\n",
              "    </tr>\n",
              "    <tr>\n",
              "      <th>4</th>\n",
              "      <td>2019-01-05</td>\n",
              "      <td>6</td>\n",
              "      <td>-1</td>\n",
              "      <td>8.7</td>\n",
              "      <td>16.020019</td>\n",
              "    </tr>\n",
              "    <tr>\n",
              "      <th>...</th>\n",
              "      <td>...</td>\n",
              "      <td>...</td>\n",
              "      <td>...</td>\n",
              "      <td>...</td>\n",
              "      <td>...</td>\n",
              "    </tr>\n",
              "    <tr>\n",
              "      <th>360</th>\n",
              "      <td>2019-12-27</td>\n",
              "      <td>13</td>\n",
              "      <td>10</td>\n",
              "      <td>8.7</td>\n",
              "      <td>16.020019</td>\n",
              "    </tr>\n",
              "    <tr>\n",
              "      <th>361</th>\n",
              "      <td>2019-12-28</td>\n",
              "      <td>11</td>\n",
              "      <td>5</td>\n",
              "      <td>6.9</td>\n",
              "      <td>13.708421</td>\n",
              "    </tr>\n",
              "    <tr>\n",
              "      <th>362</th>\n",
              "      <td>2019-12-29</td>\n",
              "      <td>9</td>\n",
              "      <td>2</td>\n",
              "      <td>8.7</td>\n",
              "      <td>16.020019</td>\n",
              "    </tr>\n",
              "    <tr>\n",
              "      <th>363</th>\n",
              "      <td>2019-12-30</td>\n",
              "      <td>12</td>\n",
              "      <td>4</td>\n",
              "      <td>8.7</td>\n",
              "      <td>16.020019</td>\n",
              "    </tr>\n",
              "    <tr>\n",
              "      <th>364</th>\n",
              "      <td>2019-12-31</td>\n",
              "      <td>10</td>\n",
              "      <td>4</td>\n",
              "      <td>8.7</td>\n",
              "      <td>16.020019</td>\n",
              "    </tr>\n",
              "  </tbody>\n",
              "</table>\n",
              "<p>365 rows × 5 columns</p>\n",
              "</div>\n",
              "      <button class=\"colab-df-convert\" onclick=\"convertToInteractive('df-79eb3f61-c621-4219-8f81-f785823daaee')\"\n",
              "              title=\"Convert this dataframe to an interactive table.\"\n",
              "              style=\"display:none;\">\n",
              "        \n",
              "  <svg xmlns=\"http://www.w3.org/2000/svg\" height=\"24px\"viewBox=\"0 0 24 24\"\n",
              "       width=\"24px\">\n",
              "    <path d=\"M0 0h24v24H0V0z\" fill=\"none\"/>\n",
              "    <path d=\"M18.56 5.44l.94 2.06.94-2.06 2.06-.94-2.06-.94-.94-2.06-.94 2.06-2.06.94zm-11 1L8.5 8.5l.94-2.06 2.06-.94-2.06-.94L8.5 2.5l-.94 2.06-2.06.94zm10 10l.94 2.06.94-2.06 2.06-.94-2.06-.94-.94-2.06-.94 2.06-2.06.94z\"/><path d=\"M17.41 7.96l-1.37-1.37c-.4-.4-.92-.59-1.43-.59-.52 0-1.04.2-1.43.59L10.3 9.45l-7.72 7.72c-.78.78-.78 2.05 0 2.83L4 21.41c.39.39.9.59 1.41.59.51 0 1.02-.2 1.41-.59l7.78-7.78 2.81-2.81c.8-.78.8-2.07 0-2.86zM5.41 20L4 18.59l7.72-7.72 1.47 1.35L5.41 20z\"/>\n",
              "  </svg>\n",
              "      </button>\n",
              "      \n",
              "  <style>\n",
              "    .colab-df-container {\n",
              "      display:flex;\n",
              "      flex-wrap:wrap;\n",
              "      gap: 12px;\n",
              "    }\n",
              "\n",
              "    .colab-df-convert {\n",
              "      background-color: #E8F0FE;\n",
              "      border: none;\n",
              "      border-radius: 50%;\n",
              "      cursor: pointer;\n",
              "      display: none;\n",
              "      fill: #1967D2;\n",
              "      height: 32px;\n",
              "      padding: 0 0 0 0;\n",
              "      width: 32px;\n",
              "    }\n",
              "\n",
              "    .colab-df-convert:hover {\n",
              "      background-color: #E2EBFA;\n",
              "      box-shadow: 0px 1px 2px rgba(60, 64, 67, 0.3), 0px 1px 3px 1px rgba(60, 64, 67, 0.15);\n",
              "      fill: #174EA6;\n",
              "    }\n",
              "\n",
              "    [theme=dark] .colab-df-convert {\n",
              "      background-color: #3B4455;\n",
              "      fill: #D2E3FC;\n",
              "    }\n",
              "\n",
              "    [theme=dark] .colab-df-convert:hover {\n",
              "      background-color: #434B5C;\n",
              "      box-shadow: 0px 1px 3px 1px rgba(0, 0, 0, 0.15);\n",
              "      filter: drop-shadow(0px 1px 2px rgba(0, 0, 0, 0.3));\n",
              "      fill: #FFFFFF;\n",
              "    }\n",
              "  </style>\n",
              "\n",
              "      <script>\n",
              "        const buttonEl =\n",
              "          document.querySelector('#df-79eb3f61-c621-4219-8f81-f785823daaee button.colab-df-convert');\n",
              "        buttonEl.style.display =\n",
              "          google.colab.kernel.accessAllowed ? 'block' : 'none';\n",
              "\n",
              "        async function convertToInteractive(key) {\n",
              "          const element = document.querySelector('#df-79eb3f61-c621-4219-8f81-f785823daaee');\n",
              "          const dataTable =\n",
              "            await google.colab.kernel.invokeFunction('convertToInteractive',\n",
              "                                                     [key], {});\n",
              "          if (!dataTable) return;\n",
              "\n",
              "          const docLinkHtml = 'Like what you see? Visit the ' +\n",
              "            '<a target=\"_blank\" href=https://colab.research.google.com/notebooks/data_table.ipynb>data table notebook</a>'\n",
              "            + ' to learn more about interactive tables.';\n",
              "          element.innerHTML = '';\n",
              "          dataTable['output_type'] = 'display_data';\n",
              "          await google.colab.output.renderOutput(dataTable, element);\n",
              "          const docLink = document.createElement('div');\n",
              "          docLink.innerHTML = docLinkHtml;\n",
              "          element.appendChild(docLink);\n",
              "        }\n",
              "      </script>\n",
              "    </div>\n",
              "  </div>\n",
              "  "
            ]
          },
          "metadata": {},
          "execution_count": 9
        }
      ]
    },
    {
      "cell_type": "markdown",
      "metadata": {
        "id": "0Ursrji1KgLk"
      },
      "source": [
        "## Visualisations\n",
        "You can predict the Max temperature from any value of Sunhour. Your prediction is now stored in a column, you can now visualize it. \n",
        "\n",
        "It's to you now :\n",
        "Create on the same scatterplot chart :\n",
        "- X-axis : Sunhours\n",
        "- Y-axis : MAX temperatures in blue dots and 'predict' in red dots."
      ]
    },
    {
      "cell_type": "code",
      "metadata": {
        "id": "ZgbZRRwmI93Q",
        "colab": {
          "base_uri": "https://localhost:8080/",
          "height": 279
        },
        "outputId": "c34af528-94e1-4dff-90ad-c9fc249cb07b"
      },
      "source": [
        "# Your code here :\n",
        "\n",
        "plt.scatter(df_weather['SUNHOUR'], df_weather['MAX_TEMPERATURE_C'], color='blue')\n",
        "plt.scatter(df_weather['SUNHOUR'], df_weather['predict'], color='red')\n",
        "plt.xlabel(\"SUNHOUR\")\n",
        "plt.show()"
      ],
      "execution_count": null,
      "outputs": [
        {
          "output_type": "display_data",
          "data": {
            "text/plain": [
              "<Figure size 432x288 with 1 Axes>"
            ],
            "image/png": "[encoded data removed]"
          },
          "metadata": {
            "needs_background": "light"
          }
        }
      ]
    },
    {
      "cell_type": "markdown",
      "metadata": {
        "id": "T1rmKjRPLVVq"
      },
      "source": [
        "Your prediction is stored in a DataFrame. **So, you can visualize your prediction without the \"source\" column.** Let's try it.\n",
        "Create on the same scatterplot chart :\n",
        "- X-axis : DATE\n",
        "- Y-axis : MAX temperatures in blue dots and 'predict' in red dots."
      ]
    },
    {
      "cell_type": "code",
      "metadata": {
        "id": "87LCCYitLYZ7",
        "colab": {
          "base_uri": "https://localhost:8080/",
          "height": 279
        },
        "outputId": "707fa36b-0b14-4899-c859-e5b0ff54ce5e"
      },
      "source": [
        "# Your code here :\n",
        "\n",
        "import matplotlib.dates as mdates\n",
        "\n",
        "df_weather['DATE'] = pd.to_datetime(df_weather['DATE'])\n",
        "\n",
        "plt.scatter(df_weather['DATE'], df_weather['MAX_TEMPERATURE_C'], color='blue')\n",
        "plt.scatter(df_weather['DATE'], df_weather['predict'], color='red')\n",
        "plt.xlabel(\"DATE\")\n",
        "\n",
        "plt.gca().xaxis.set_major_locator(mdates.MonthLocator(interval=2))\n",
        "\n",
        "lgd = plt.legend;\n",
        "lgd({'Max'})\n",
        "plt.show()"
      ],
      "execution_count": null,
      "outputs": [
        {
          "output_type": "display_data",
          "data": {
            "text/plain": [
              "<Figure size 432x288 with 1 Axes>"
            ],
            "image/png": "[encoded data removed]"
          },
          "metadata": {
            "needs_background": "light"
          }
        }
      ]
    },
    {
      "cell_type": "markdown",
      "metadata": {
        "id": "uDopKt23LbYF"
      },
      "source": [
        "Hey, but it doesn't seem linear ! And yet it is..."
      ]
    },
    {
      "cell_type": "markdown",
      "metadata": {
        "id": "UcNA1qwJLlyU"
      },
      "source": [
        "# Predictions on a more correlated column\n",
        "Do the same steps to obtain a new colum \"predict2\". Your goal is to predict \"MAX temperature\" from the \"MIN temperature\" column."
      ]
    },
    {
      "cell_type": "code",
      "metadata": {
        "id": "NlrSXUswL4Lq"
      },
      "source": [
        "# Your code here :\n",
        "\n",
        "# First of all, you have to define 2 series :\n",
        "# X-axis : the correlated column, here it is Sunhours\n",
        "X = df_weather[['MIN_TEMPERATURE_C']] \n",
        "\n",
        "# Y-axis : the column to predict, so MAX Temperature here\n",
        "y = df_weather['MAX_TEMPERATURE_C'] \n",
        "\n",
        "# Hey, why is \"X\" in uppercase and \"y\" in lowercase ? That's a good point, we'll see that in the next quest. Now, you just have to use this.\n",
        "\n",
        "# To train a machine learning model (here, it will find the equation of the linear regression), you just have launch the \".fit\" method.\n",
        "modelLR2 = LinearRegression().fit(X, y)"
      ],
      "execution_count": null,
      "outputs": []
    },
    {
      "cell_type": "code",
      "source": [
        "df_weather['predict2'] = modelLR.predict(df_weather[['MIN_TEMPERATURE_C']])"
      ],
      "metadata": {
        "colab": {
          "base_uri": "https://localhost:8080/"
        },
        "id": "f_OSiWdt9E4F",
        "outputId": "039a4615-b276-4875-c2c6-feff8492fd23"
      },
      "execution_count": null,
      "outputs": [
        {
          "output_type": "stream",
          "name": "stderr",
          "text": [
            "/usr/local/lib/python3.8/dist-packages/sklearn/base.py:493: FutureWarning: The feature names should match those that were passed during fit. Starting version 1.2, an error will be raised.\n",
            "Feature names unseen at fit time:\n",
            "- MIN_TEMPERATURE_C\n",
            "Feature names seen at fit time, yet now missing:\n",
            "- SUNHOUR\n",
            "\n",
            "  warnings.warn(message, FutureWarning)\n"
          ]
        }
      ]
    },
    {
      "cell_type": "code",
      "source": [
        "df_weather"
      ],
      "metadata": {
        "colab": {
          "base_uri": "https://localhost:8080/",
          "height": 424
        },
        "id": "PxG_aXbH9RbQ",
        "outputId": "1afb5862-cbae-4947-ae16-61feaeacb4b1"
      },
      "execution_count": null,
      "outputs": [
        {
          "output_type": "execute_result",
          "data": {
            "text/plain": [
              "           DATE  MAX_TEMPERATURE_C  MIN_TEMPERATURE_C  SUNHOUR    predict  \\\n",
              "0    2019-01-01                  9                  4      5.1  11.396823   \n",
              "1    2019-01-02                  8                  5      8.7  16.020019   \n",
              "2    2019-01-03                  6                  0      8.7  16.020019   \n",
              "3    2019-01-04                  5                 -1      5.1  11.396823   \n",
              "4    2019-01-05                  6                 -1      8.7  16.020019   \n",
              "..          ...                ...                ...      ...        ...   \n",
              "360  2019-12-27                 13                 10      8.7  16.020019   \n",
              "361  2019-12-28                 11                  5      6.9  13.708421   \n",
              "362  2019-12-29                  9                  2      8.7  16.020019   \n",
              "363  2019-12-30                 12                  4      8.7  16.020019   \n",
              "364  2019-12-31                 10                  4      8.7  16.020019   \n",
              "\n",
              "      predict2  \n",
              "0     9.984180  \n",
              "1    11.268401  \n",
              "2     4.847295  \n",
              "3     3.563074  \n",
              "4     3.563074  \n",
              "..         ...  \n",
              "360  17.689507  \n",
              "361  11.268401  \n",
              "362   7.415738  \n",
              "363   9.984180  \n",
              "364   9.984180  \n",
              "\n",
              "[365 rows x 6 columns]"
            ],
            "text/html": [
              "\n",
              "  <div id=\"df-e55d5bf3-88b0-448f-a209-cbe79961861c\">\n",
              "    <div class=\"colab-df-container\">\n",
              "      <div>\n",
              "<style scoped>\n",
              "    .dataframe tbody tr th:only-of-type {\n",
              "        vertical-align: middle;\n",
              "    }\n",
              "\n",
              "    .dataframe tbody tr th {\n",
              "        vertical-align: top;\n",
              "    }\n",
              "\n",
              "    .dataframe thead th {\n",
              "        text-align: right;\n",
              "    }\n",
              "</style>\n",
              "<table border=\"1\" class=\"dataframe\">\n",
              "  <thead>\n",
              "    <tr style=\"text-align: right;\">\n",
              "      <th></th>\n",
              "      <th>DATE</th>\n",
              "      <th>MAX_TEMPERATURE_C</th>\n",
              "      <th>MIN_TEMPERATURE_C</th>\n",
              "      <th>SUNHOUR</th>\n",
              "      <th>predict</th>\n",
              "      <th>predict2</th>\n",
              "    </tr>\n",
              "  </thead>\n",
              "  <tbody>\n",
              "    <tr>\n",
              "      <th>0</th>\n",
              "      <td>2019-01-01</td>\n",
              "      <td>9</td>\n",
              "      <td>4</td>\n",
              "      <td>5.1</td>\n",
              "      <td>11.396823</td>\n",
              "      <td>9.984180</td>\n",
              "    </tr>\n",
              "    <tr>\n",
              "      <th>1</th>\n",
              "      <td>2019-01-02</td>\n",
              "      <td>8</td>\n",
              "      <td>5</td>\n",
              "      <td>8.7</td>\n",
              "      <td>16.020019</td>\n",
              "      <td>11.268401</td>\n",
              "    </tr>\n",
              "    <tr>\n",
              "      <th>2</th>\n",
              "      <td>2019-01-03</td>\n",
              "      <td>6</td>\n",
              "      <td>0</td>\n",
              "      <td>8.7</td>\n",
              "      <td>16.020019</td>\n",
              "      <td>4.847295</td>\n",
              "    </tr>\n",
              "    <tr>\n",
              "      <th>3</th>\n",
              "      <td>2019-01-04</td>\n",
              "      <td>5</td>\n",
              "      <td>-1</td>\n",
              "      <td>5.1</td>\n",
              "      <td>11.396823</td>\n",
              "      <td>3.563074</td>\n",
              "    </tr>\n",
              "    <tr>\n",
              "      <th>4</th>\n",
              "      <td>2019-01-05</td>\n",
              "      <td>6</td>\n",
              "      <td>-1</td>\n",
              "      <td>8.7</td>\n",
              "      <td>16.020019</td>\n",
              "      <td>3.563074</td>\n",
              "    </tr>\n",
              "    <tr>\n",
              "      <th>...</th>\n",
              "      <td>...</td>\n",
              "      <td>...</td>\n",
              "      <td>...</td>\n",
              "      <td>...</td>\n",
              "      <td>...</td>\n",
              "      <td>...</td>\n",
              "    </tr>\n",
              "    <tr>\n",
              "      <th>360</th>\n",
              "      <td>2019-12-27</td>\n",
              "      <td>13</td>\n",
              "      <td>10</td>\n",
              "      <td>8.7</td>\n",
              "      <td>16.020019</td>\n",
              "      <td>17.689507</td>\n",
              "    </tr>\n",
              "    <tr>\n",
              "      <th>361</th>\n",
              "      <td>2019-12-28</td>\n",
              "      <td>11</td>\n",
              "      <td>5</td>\n",
              "      <td>6.9</td>\n",
              "      <td>13.708421</td>\n",
              "      <td>11.268401</td>\n",
              "    </tr>\n",
              "    <tr>\n",
              "      <th>362</th>\n",
              "      <td>2019-12-29</td>\n",
              "      <td>9</td>\n",
              "      <td>2</td>\n",
              "      <td>8.7</td>\n",
              "      <td>16.020019</td>\n",
              "      <td>7.415738</td>\n",
              "    </tr>\n",
              "    <tr>\n",
              "      <th>363</th>\n",
              "      <td>2019-12-30</td>\n",
              "      <td>12</td>\n",
              "      <td>4</td>\n",
              "      <td>8.7</td>\n",
              "      <td>16.020019</td>\n",
              "      <td>9.984180</td>\n",
              "    </tr>\n",
              "    <tr>\n",
              "      <th>364</th>\n",
              "      <td>2019-12-31</td>\n",
              "      <td>10</td>\n",
              "      <td>4</td>\n",
              "      <td>8.7</td>\n",
              "      <td>16.020019</td>\n",
              "      <td>9.984180</td>\n",
              "    </tr>\n",
              "  </tbody>\n",
              "</table>\n",
              "<p>365 rows × 6 columns</p>\n",
              "</div>\n",
              "      <button class=\"colab-df-convert\" onclick=\"convertToInteractive('df-e55d5bf3-88b0-448f-a209-cbe79961861c')\"\n",
              "              title=\"Convert this dataframe to an interactive table.\"\n",
              "              style=\"display:none;\">\n",
              "        \n",
              "  <svg xmlns=\"http://www.w3.org/2000/svg\" height=\"24px\"viewBox=\"0 0 24 24\"\n",
              "       width=\"24px\">\n",
              "    <path d=\"M0 0h24v24H0V0z\" fill=\"none\"/>\n",
              "    <path d=\"M18.56 5.44l.94 2.06.94-2.06 2.06-.94-2.06-.94-.94-2.06-.94 2.06-2.06.94zm-11 1L8.5 8.5l.94-2.06 2.06-.94-2.06-.94L8.5 2.5l-.94 2.06-2.06.94zm10 10l.94 2.06.94-2.06 2.06-.94-2.06-.94-.94-2.06-.94 2.06-2.06.94z\"/><path d=\"M17.41 7.96l-1.37-1.37c-.4-.4-.92-.59-1.43-.59-.52 0-1.04.2-1.43.59L10.3 9.45l-7.72 7.72c-.78.78-.78 2.05 0 2.83L4 21.41c.39.39.9.59 1.41.59.51 0 1.02-.2 1.41-.59l7.78-7.78 2.81-2.81c.8-.78.8-2.07 0-2.86zM5.41 20L4 18.59l7.72-7.72 1.47 1.35L5.41 20z\"/>\n",
              "  </svg>\n",
              "      </button>\n",
              "      \n",
              "  <style>\n",
              "    .colab-df-container {\n",
              "      display:flex;\n",
              "      flex-wrap:wrap;\n",
              "      gap: 12px;\n",
              "    }\n",
              "\n",
              "    .colab-df-convert {\n",
              "      background-color: #E8F0FE;\n",
              "      border: none;\n",
              "      border-radius: 50%;\n",
              "      cursor: pointer;\n",
              "      display: none;\n",
              "      fill: #1967D2;\n",
              "      height: 32px;\n",
              "      padding: 0 0 0 0;\n",
              "      width: 32px;\n",
              "    }\n",
              "\n",
              "    .colab-df-convert:hover {\n",
              "      background-color: #E2EBFA;\n",
              "      box-shadow: 0px 1px 2px rgba(60, 64, 67, 0.3), 0px 1px 3px 1px rgba(60, 64, 67, 0.15);\n",
              "      fill: #174EA6;\n",
              "    }\n",
              "\n",
              "    [theme=dark] .colab-df-convert {\n",
              "      background-color: #3B4455;\n",
              "      fill: #D2E3FC;\n",
              "    }\n",
              "\n",
              "    [theme=dark] .colab-df-convert:hover {\n",
              "      background-color: #434B5C;\n",
              "      box-shadow: 0px 1px 3px 1px rgba(0, 0, 0, 0.15);\n",
              "      filter: drop-shadow(0px 1px 2px rgba(0, 0, 0, 0.3));\n",
              "      fill: #FFFFFF;\n",
              "    }\n",
              "  </style>\n",
              "\n",
              "      <script>\n",
              "        const buttonEl =\n",
              "          document.querySelector('#df-e55d5bf3-88b0-448f-a209-cbe79961861c button.colab-df-convert');\n",
              "        buttonEl.style.display =\n",
              "          google.colab.kernel.accessAllowed ? 'block' : 'none';\n",
              "\n",
              "        async function convertToInteractive(key) {\n",
              "          const element = document.querySelector('#df-e55d5bf3-88b0-448f-a209-cbe79961861c');\n",
              "          const dataTable =\n",
              "            await google.colab.kernel.invokeFunction('convertToInteractive',\n",
              "                                                     [key], {});\n",
              "          if (!dataTable) return;\n",
              "\n",
              "          const docLinkHtml = 'Like what you see? Visit the ' +\n",
              "            '<a target=\"_blank\" href=https://colab.research.google.com/notebooks/data_table.ipynb>data table notebook</a>'\n",
              "            + ' to learn more about interactive tables.';\n",
              "          element.innerHTML = '';\n",
              "          dataTable['output_type'] = 'display_data';\n",
              "          await google.colab.output.renderOutput(dataTable, element);\n",
              "          const docLink = document.createElement('div');\n",
              "          docLink.innerHTML = docLinkHtml;\n",
              "          element.appendChild(docLink);\n",
              "        }\n",
              "      </script>\n",
              "    </div>\n",
              "  </div>\n",
              "  "
            ]
          },
          "metadata": {},
          "execution_count": 29
        }
      ]
    },
    {
      "cell_type": "markdown",
      "metadata": {
        "id": "faAHUMseL3vY"
      },
      "source": [
        "## Scatterplot 1\n",
        "- X-axis : MIN temperature\n",
        "- Y-axis : MAX temperatures in blue dots and 'predict2' in red dots."
      ]
    },
    {
      "cell_type": "code",
      "metadata": {
        "id": "KfQkWH_YMK9D",
        "colab": {
          "base_uri": "https://localhost:8080/",
          "height": 280
        },
        "outputId": "f09bd3d3-bb06-4e22-c530-aa87f849e10a"
      },
      "source": [
        "#Your code here :\n",
        "\n",
        "plt.scatter(df_weather['MIN_TEMPERATURE_C'], df_weather['MAX_TEMPERATURE_C'], color='blue')\n",
        "plt.scatter(df_weather['MIN_TEMPERATURE_C'], df_weather['predict2'], color='red')\n",
        "plt.xlabel(\"MIN_TEMPERATURE_C\")\n",
        "plt.show()"
      ],
      "execution_count": null,
      "outputs": [
        {
          "output_type": "display_data",
          "data": {
            "text/plain": [
              "<Figure size 432x288 with 1 Axes>"
            ],
            "image/png": "[encoded data removed]"
          },
          "metadata": {
            "needs_background": "light"
          }
        }
      ]
    },
    {
      "cell_type": "markdown",
      "metadata": {
        "id": "A8P6S3RTMMo-"
      },
      "source": [
        "## Scatterplot 2\n",
        "- X-axis : DATE\n",
        "- Y-axis : MAX temperatures in blue dots and 'predict2' in red dots."
      ]
    },
    {
      "cell_type": "code",
      "metadata": {
        "id": "U4HAg2nvMRZE",
        "colab": {
          "base_uri": "https://localhost:8080/",
          "height": 279
        },
        "outputId": "393354a0-db0f-4c19-a60e-345a47ab591f"
      },
      "source": [
        "# Your code here :\n",
        "\n",
        "plt.scatter(df_weather['DATE'], df_weather['MAX_TEMPERATURE_C'], color='blue')\n",
        "plt.scatter(df_weather['DATE'], df_weather['predict2'], color='red')\n",
        "plt.xlabel(\"DATE\")\n",
        "plt.gca().xaxis.set_major_locator(mdates.MonthLocator(interval=2))\n",
        "lgd = plt.legend;\n",
        "lgd({'Max'})\n",
        "plt.show()"
      ],
      "execution_count": null,
      "outputs": [
        {
          "output_type": "display_data",
          "data": {
            "text/plain": [
              "<Figure size 432x288 with 1 Axes>"
            ],
            "image/png": "[encoded data removed]"
          },
          "metadata": {
            "needs_background": "light"
          }
        }
      ]
    }
  ]
}